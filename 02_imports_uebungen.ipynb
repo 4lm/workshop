{
 "cells": [
  {
   "cell_type": "markdown",
   "metadata": {},
   "source": [
    "# Inhalt\n",
    "\n",
    "- Funktion definieren\n",
    "- Funktion laufen\n",
    "- Module\n",
    "- Module importieren und benutzen\n",
    "- ?? class ?? (vielleicht das ist zu viel...)\n",
    "- pip/conda package install"
   ]
  },
  {
   "cell_type": "markdown",
   "metadata": {},
   "source": [
    "# Übung 1\n",
    "Schreiben Sie eine Funktion, die den Inhalt (key und entschpreschende Wert) von ein `dict` auf jede Zeilen `print`."
   ]
  },
  {
   "cell_type": "code",
   "execution_count": null,
   "metadata": {},
   "outputs": [],
   "source": []
  },
  {
   "cell_type": "markdown",
   "metadata": {},
   "source": [
    "# Übung 2\n",
    "Schreiben Sie eine Funktion, die ein eingegebenes Element in `list` einführt, aber nur, wenn das Element noch nicht in die `list` ist.\n"
   ]
  },
  {
   "cell_type": "code",
   "execution_count": null,
   "metadata": {},
   "outputs": [],
   "source": []
  },
  {
   "cell_type": "markdown",
   "metadata": {},
   "source": [
    "# Übung 3\n",
    "Schreiben Sie eine Funktion, die rückmeldet, ob mindestens ein Wert von typ `str` ist.\n"
   ]
  },
  {
   "cell_type": "code",
   "execution_count": null,
   "metadata": {},
   "outputs": [],
   "source": []
  },
  {
   "cell_type": "markdown",
   "metadata": {},
   "source": [
    "# Übung 4\n",
    "Schreiben Sie eine Funktion, die eine Teilmenge von den ersten (oder letzten) `n` Werten zurück gibt."
   ]
  },
  {
   "cell_type": "code",
   "execution_count": null,
   "metadata": {},
   "outputs": [],
   "source": []
  },
  {
   "cell_type": "markdown",
   "metadata": {},
   "source": [
    "# Übung 5\n",
    "Mutliplizieren Sie die Nummern aus diese list (`liste = range(25)`) durch `n`, wobei `n` ein Nummer ist."
   ]
  },
  {
   "cell_type": "code",
   "execution_count": null,
   "metadata": {},
   "outputs": [],
   "source": []
  },
  {
   "cell_type": "markdown",
   "metadata": {},
   "source": [
    "# Übung 6\n",
    "\n",
    "Schrieben Sie den Code Unten in die richtige Reihen Folge, sodass es laufen lassen kann.\n",
    "\n",
    "Quelle : http://swcarpentry.github.io/python-novice-gapminder/12-for-loops/index.html\n"
   ]
  },
  {
   "cell_type": "code",
   "execution_count": null,
   "metadata": {},
   "outputs": [],
   "source": [
    "cumulative.append(sum)\n",
    "for number in data:\n",
    "cumulative = []\n",
    "sum += number\n",
    "sum = 0\n",
    "print(cumulative)\n",
    "data = [1,2,2,5]"
   ]
  },
  {
   "cell_type": "markdown",
   "metadata": {},
   "source": [
    "# Übung 7\n"
   ]
  },
  {
   "cell_type": "code",
   "execution_count": null,
   "metadata": {},
   "outputs": [],
   "source": []
  },
  {
   "cell_type": "markdown",
   "metadata": {},
   "source": [
    "# Übung ...\n",
    "Speichern Sie diese Funktionen in eine .py Datei und Verwenden Sie in einem Jupyter Notebook mit `import`"
   ]
  }
 ],
 "metadata": {
  "kernelspec": {
   "display_name": "Python 3",
   "language": "python",
   "name": "python3"
  },
  "language_info": {
   "codemirror_mode": {
    "name": "ipython",
    "version": 3
   },
   "file_extension": ".py",
   "mimetype": "text/x-python",
   "name": "python",
   "nbconvert_exporter": "python",
   "pygments_lexer": "ipython3",
   "version": "3.6.7"
  }
 },
 "nbformat": 4,
 "nbformat_minor": 2
}
