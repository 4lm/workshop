{
 "cells": [
  {
   "cell_type": "code",
   "execution_count": null,
   "metadata": {},
   "outputs": [],
   "source": [
    "class Person:\n",
    "    \n",
    "    def __init__(self, name, vorname, geburtstag=None, haare_farbe=None, telephon_nummer=None):\n",
    "        self.name = name\n",
    "        self.vorname = vorname\n",
    "        self.geburtstag = geburtstag\n",
    "        self.haare_farbe = haare_farbe\n",
    "        self.telephon_nummer = telephon_nummer\n",
    "        \n",
    "        self.alter = None\n",
    "\n",
    "a_person = Person('Leber', 'Julius', '1891-11-16')"
   ]
  },
  {
   "cell_type": "code",
   "execution_count": null,
   "metadata": {},
   "outputs": [],
   "source": [
    "# make a list of persons\n",
    "namen = ('Curie', 'Mozart', 'Strauss', 'Stormer', 'Stuart')\n",
    "vornamen = ('Marie', 'Wolfgang', 'Lewis', 'Horst', 'Marie')\n",
    "geburstage = ('1867-11-07', '1756-01-27', '1896-01-31', '1949-04-06', '1542-12-08')\n",
    "telephonsnummern = ('0301347450201', '0207583740274', '030748513846', '0607585122063', '0501924036872')\n",
    "haare_farbe = ('hell', 'weiss', None, 'braun', 'rot')\n",
    "\n",
    "persons_list = []\n",
    "\n",
    "for name, vorname, gtag, tnum, hfarbe in zip(namen, vornamen, geburstage, telephonsnummern, haare_farbe):\n",
    "    persons_list.append(Person(name, vorname, gtag, hfarbe, tnum))"
   ]
  },
  {
   "cell_type": "code",
   "execution_count": null,
   "metadata": {},
   "outputs": [],
   "source": [
    "def write_to_file(fname, lines):\n",
    "    ofs = open(fname, 'w')\n",
    "    ofs.write('\\n'.join(lines) + '\\n')\n",
    "    ofs.close()"
   ]
  },
  {
   "cell_type": "markdown",
   "metadata": {},
   "source": [
    "## Übung Teil 1\n",
    "Schreiben Sie eine Funktion (Namen Sie bitte die `geburstag_umwandeln`), die den Geburstag als Input (iso str, z.b. `'1979-11-27'`) verwendet und die den Alter als `int` zurückgibt.\n",
    "\n",
    "Schreiben Sie eine Funktion (Namen Sie bitte die `namen_sammler`), die den ganz Name (Familiename+Vorname) und Telephonsnummer von jeder Personsinstanz aus eine list von Personsinstanzen sammelt und eine dict mit tuple (name, vorname) als keys und Telephonsnummer als Werte zurückgibt.\n",
    "\n",
    "Hinweis : Sie dürfen immer Funktionen im Funktionen verwenden! "
   ]
  },
  {
   "cell_type": "markdown",
   "metadata": {},
   "source": [
    "## Übung Teil 2\n",
    "\n",
    "Schreiben Sie eine Funktion (Namen Sie bitte die `altersdurchschnitt`), die das Alter von jeder Personsinstanz aus eine list von Personsinstanzen sammelt und den Durchschnitt zurückgibt.\n",
    "\n",
    "Schreiben Sie eine Funktion (Namen Sie bitte die `telefon_formatierer`), die eine dict mit tuple (name, vorname) als keys und Telephonsnummer als Werte verwendet und eine dict mit tuple (name, vorname) als keys und die formatierene Telephonsnummer als Werte zurückgibt.\n",
    "\n",
    "Hinweis : Sie dürfen immer Funktionen im Funktionen verwenden! "
   ]
  },
  {
   "cell_type": "markdown",
   "metadata": {},
   "source": [
    "## Übung Teil 3\n",
    "\n",
    "Schreiben Sie eine Funktion (Namen Sie bitte die `person_info`), die eine Personsinstanz verwendet und eine string, die alle Attribute von der Personsinstanz enthält, die durch ein Komma getrennt sind."
   ]
  }
 ],
 "metadata": {
  "kernelspec": {
   "display_name": "Python 3",
   "language": "python",
   "name": "python3"
  },
  "language_info": {
   "codemirror_mode": {
    "name": "ipython",
    "version": 3
   },
   "file_extension": ".py",
   "mimetype": "text/x-python",
   "name": "python",
   "nbconvert_exporter": "python",
   "pygments_lexer": "ipython3",
   "version": "3.6.7"
  }
 },
 "nbformat": 4,
 "nbformat_minor": 2
}
