{
 "cells": [
  {
   "cell_type": "code",
   "execution_count": null,
   "metadata": {},
   "outputs": [],
   "source": [
    "class Person:\n",
    "    \n",
    "    def __init__(self, name, vorname, geburtstag=None, haare_farbe=None, telephon_nummer=None):\n",
    "        self.name = name\n",
    "        self.vorname = vorname\n",
    "        self.geburtstag = geburtstag\n",
    "        self.haare_farbe = haare_farbe\n",
    "        self.telephon_nummer = telephon_nummer\n",
    "        \n",
    "        self.alter = None\n",
    "\n",
    "a_person = Person('Leber', 'Julius', '1891-11-16')"
   ]
  },
  {
   "cell_type": "code",
   "execution_count": null,
   "metadata": {},
   "outputs": [],
   "source": [
    "# make list of people"
   ]
  },
  {
   "cell_type": "markdown",
   "metadata": {},
   "source": [
    "## Übung Teil 1\n",
    "Schreiben Sie eine Funktion (Namen Sie bitte die `geburstag_umwandeln`), die den Geburstag als Input (iso str, z.b. `'1979-11-27'`) verwendet und die den Alter als `int` zurückgibt.\n",
    "\n",
    "Schreiben Sie eine Funktion (Namen Sie bitte die `namen_sammler`), die den ganz Name (Familiename+Vorname) und Telephonsnummer von jeder Personsinstanz aus eine list von Personsinstanzen sammelt und eine dict mit tuple (name, vorname) als keys und Telephonsnummer als Werte zurückgibt.\n",
    "\n",
    "Hinweis : Sie dürfen immer Funktionen im Funktionen verwenden! "
   ]
  },
  {
   "cell_type": "markdown",
   "metadata": {},
   "source": [
    "## Übung Teil 2\n",
    "\n",
    "Schreiben Sie eine Funktion (Namen Sie bitte die `altersdurchschnitt`), die das Alter von jeder Personsinstanz aus eine list von Personsinstanzen sammelt und den Durchschnitt zurückgibt.\n",
    "\n",
    "Schreiben Sie eine Funktion (Namen Sie bitte die `telefon_formatierer`), die eine dict mit tuple (name, vorname) als keys und Telephonsnummer als Werte verwendet und eine dict mit tuple (name, vorname) als keys und die formatierene Telephonsnummer als Werte zurückgibt.\n",
    "\n",
    "Hinweis : Sie dürfen immer Funktionen im Funktionen verwenden! "
   ]
  },
  {
   "cell_type": "markdown",
   "metadata": {},
   "source": [
    "## Übung Teil 3\n",
    "\n",
    "Schreiben Sie eine Funktion (Namen Sie bitte die `person_info`), die eine Personsinstanz verwendet und eine string, die alle Attribute von der Personsinstanz enthält, die durch ein Komma getrennt sind."
   ]
  }
 ],
 "metadata": {
  "kernelspec": {
   "display_name": "Python 3",
   "language": "python",
   "name": "python3"
  },
  "language_info": {
   "codemirror_mode": {
    "name": "ipython",
    "version": 3
   },
   "file_extension": ".py",
   "mimetype": "text/x-python",
   "name": "python",
   "nbconvert_exporter": "python",
   "pygments_lexer": "ipython3",
   "version": "3.6.7"
  }
 },
 "nbformat": 4,
 "nbformat_minor": 2
}
