{
 "cells": [
  {
   "cell_type": "code",
   "execution_count": null,
   "metadata": {},
   "outputs": [],
   "source": [
    "import matplotlib.pyplot as plt\n",
    "import pandas as pd\n",
    "import numpy as np"
   ]
  },
  {
   "cell_type": "code",
   "execution_count": null,
   "metadata": {},
   "outputs": [],
   "source": [
    "#https://matplotlib.org/users/customizing.html\n",
    "plt.style.use('seaborn-paper')\n",
    "#plt.style.use('fig_style.mplstyle')"
   ]
  },
  {
   "cell_type": "code",
   "execution_count": null,
   "metadata": {},
   "outputs": [],
   "source": [
    "x = np.arange(10)\n",
    "fig = plt.figure(figsize=(7,4))\n",
    "ax = fig.add_axes([0.1, 0.1, 0.9, 0.9])\n",
    "ax.plot(x, x**2, label='big ax')\n",
    "ax.set_xlabel('x')\n",
    "ax.set_ylabel('y')\n",
    "\n",
    "small_ax = fig.add_axes([0.2,0.5, 0.3, 0.4])\n",
    "small_ax.plot(x, -3 * x**2 + 25 * x, '--k', label='small ax')\n",
    "\n",
    "\n",
    "ax.legend()\n",
    "small_ax.legend()"
   ]
  },
  {
   "cell_type": "code",
   "execution_count": null,
   "metadata": {},
   "outputs": [],
   "source": [
    "x = np.arange(10)\n",
    "handles = []\n",
    "\n",
    "fig = plt.figure(figsize=(7,4))\n",
    "ax = fig.add_axes([0.1, 0.1, 0.9, 0.9])\n",
    "h, = ax.plot(x, x**2, label='big ax')\n",
    "handles.append(h)\n",
    "ax.set_xlabel('x')\n",
    "ax.set_ylabel('y')\n",
    "\n",
    "small_ax = fig.add_axes([0.2,0.5, 0.3, 0.4])\n",
    "h, = small_ax.plot(x, -3 * x**2 + 25 * x, '--k', label='small ax')\n",
    "handles.append(h)\n",
    "\n",
    "ax.legend(handles, [h.get_label() for h in handles], loc='lower right', frameon=False)\n",
    "\n",
    "small_ax.legend(handles, ['other', 'labels'])"
   ]
  },
  {
   "cell_type": "code",
   "execution_count": null,
   "metadata": {},
   "outputs": [],
   "source": [
    "x = np.arange(10)\n",
    "handles = []\n",
    "\n",
    "fig, axes = plt.subplots(nrows=3, ncols=1, sharex=True, sharey=True, figsize=(7,4))\n",
    "\n",
    "colors = ('r', 'k', 'b')\n",
    "\n",
    "for i, ax in enumerate(axes):\n",
    "    ax.plot(x, x**i, color=colors[i])\n",
    "\n",
    "    \n",
    "Thing for major and minor formatter"
   ]
  },
  {
   "cell_type": "code",
   "execution_count": null,
   "metadata": {},
   "outputs": [],
   "source": [
    "\n",
    "import plotly.graph_objs as go\n",
    "from plotly.offline import download_plotlyjs, init_notebook_mode, plot, iplot\n",
    "\n",
    "import numpy as np\n",
    "\n",
    "init_notebook_mode(connected=True)\n",
    "\n",
    "x = np.random.randn(2000)\n",
    "y = np.random.randn(2000)\n",
    "plot([go.Histogram2dContour(x=x, y=y, contours=dict(coloring='heatmap')),\n",
    "       go.Scatter(x=x, y=y, mode='markers', marker=dict(color='white', size=3, opacity=0.3))], show_link=False)"
   ]
  },
  {
   "cell_type": "code",
   "execution_count": null,
   "metadata": {},
   "outputs": [],
   "source": [
    "iplot([{\"x\": [1, 2, 3], \"y\": [3, 1, 6]}])"
   ]
  }
 ],
 "metadata": {
  "kernelspec": {
   "display_name": "Python 3",
   "language": "python",
   "name": "python3"
  },
  "language_info": {
   "codemirror_mode": {
    "name": "ipython",
    "version": 3
   },
   "file_extension": ".py",
   "mimetype": "text/x-python",
   "name": "python",
   "nbconvert_exporter": "python",
   "pygments_lexer": "ipython3",
   "version": "3.6.7"
  }
 },
 "nbformat": 4,
 "nbformat_minor": 2
}
