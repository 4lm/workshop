{
 "cells": [
  {
   "cell_type": "markdown",
   "metadata": {},
   "source": [
    "# Übung 1\n",
    "Ersetzen Sie den Inhalt von der `list [1, 2, 3]` mit die Werte von dem `dict {'a' : 12, 'b': 14, 'c': 13}`"
   ]
  },
  {
   "cell_type": "code",
   "execution_count": null,
   "metadata": {},
   "outputs": [],
   "source": []
  },
  {
   "cell_type": "markdown",
   "metadata": {},
   "source": [
    "# Übung 2\n",
    "Ersetzen Sie den Inhalt von der `list [1, 2, 3]` mit die Werte von dem `dict {1 : 12, 3: 14, 2: 13}`, bei denen die `keys` den `list` Werten entsprechen.\n"
   ]
  },
  {
   "cell_type": "code",
   "execution_count": null,
   "metadata": {},
   "outputs": [],
   "source": []
  },
  {
   "cell_type": "markdown",
   "metadata": {},
   "source": [
    "# Übung 3\n",
    "Benutzen Sie den `tuple ('a', 'b', 'c', 'd')` und die `list [3, 1, 4, 2]` und kreieren ein `dict`, wobei die `keys` der alphabetischen Reihenfolge der Werte entsprechen."
   ]
  },
  {
   "cell_type": "code",
   "execution_count": null,
   "metadata": {},
   "outputs": [],
   "source": []
  },
  {
   "cell_type": "markdown",
   "metadata": {},
   "source": [
    "# Übung 4\n",
    "Stellen Sie den typ von jeder Wert in einer `list` mit `print()` Anweisung dar."
   ]
  },
  {
   "cell_type": "code",
   "execution_count": null,
   "metadata": {},
   "outputs": [],
   "source": []
  },
  {
   "cell_type": "markdown",
   "metadata": {},
   "source": [
    "# Übung 5\n",
    "Kreieren Sie eine Struktur, die die Ältern `(63, 15, 42, 27)` und Haare Färben `('grau', 'blonde', 'schwarz', 'rot')` von Leuten aus diesen zwei entschprechenden tuples (Vornamen : `(Maria, Okan, Maria, Jonas)` und Familien Namen : `(Schmidt, Müller, Klein, Klein)`) enthält. Man soll dann mit dem Name und Vorname als Eingabe, die richtige Alter und Haare Farbe zurückkehren."
   ]
  },
  {
   "cell_type": "code",
   "execution_count": null,
   "metadata": {},
   "outputs": [],
   "source": []
  },
  {
   "cell_type": "markdown",
   "metadata": {},
   "source": [
    "# Übung 6\n",
    "Fügen Sie die erste `n` Werte aus die angebenene liste `liste = range(10)` mit einer `for` Schleife und `if` Anweisung hin, wobei `n` ist ein Nummer zwischen 0 und 10."
   ]
  },
  {
   "cell_type": "code",
   "execution_count": null,
   "metadata": {},
   "outputs": [],
   "source": []
  },
  {
   "cell_type": "markdown",
   "metadata": {},
   "source": [
    "# Übung 7\n",
    "Fügen Sie die erste `n` Werte aus die angebenene list `liste = range(10)` mit den `:` operator, wobei `n` ist ein Nummer zwischen 0 und 10."
   ]
  },
  {
   "cell_type": "code",
   "execution_count": null,
   "metadata": {},
   "outputs": [],
   "source": []
  },
  {
   "cell_type": "markdown",
   "metadata": {},
   "source": [
    "# Übung 7\n",
    "Kreieren Sie eine andere list aus der angegebenen list (`[0309298393848, 0407560293782, 0408290617239, 0893670294301]`), die nur die local Telephon Nummer enthält (ohne die Vorwählen)"
   ]
  }
 ],
 "metadata": {
  "kernelspec": {
   "display_name": "Python 3",
   "language": "python",
   "name": "python3"
  },
  "language_info": {
   "codemirror_mode": {
    "name": "ipython",
    "version": 3
   },
   "file_extension": ".py",
   "mimetype": "text/x-python",
   "name": "python",
   "nbconvert_exporter": "python",
   "pygments_lexer": "ipython3",
   "version": "3.6.7"
  }
 },
 "nbformat": 4,
 "nbformat_minor": 2
}
