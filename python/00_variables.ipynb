{
 "cells": [
  {
   "cell_type": "markdown",
   "metadata": {},
   "source": [
    "# Inhalt\n",
    "\n",
    "- Python Code laufen lassen\n",
    "- Python comments\n",
    "- Variablen zuweisen\n",
    "- Benutzung von builtin `print()` Anweisung \n",
    "- Variablentypen\n",
    "- Builtintypen `int`, `str`, `float`, `bool`\n",
    "- builtin tuple Struktur\n",
    "- builtin list Struktur (cell array in Matlab C = {1,2,3;'text',rand(5,10,2),{11; 22; 33}})\n",
    "    - `:` index\n",
    "    - builtin `append()`\n",
    "    - builtin `len()`\n",
    "- builtin dict Struktur (`struct` in MatLab)\n",
    "- builtin `[]` und `in` Stichwörter für iterable `zip` `enumerate`\n",
    "- `for` Schleife\n",
    "- `dict` und `list` comprehension \n",
    "- `if` Anweisung"
   ]
  },
  {
   "cell_type": "markdown",
   "metadata": {},
   "source": [
    "## Python Code laufen lassen\n",
    "- mit pycharm\n",
    "- mit Terminal\n",
    "- mit Jupyter Notebook"
   ]
  },
  {
   "cell_type": "markdown",
   "metadata": {},
   "source": [
    "## Python comments"
   ]
  },
  {
   "cell_type": "code",
   "execution_count": null,
   "metadata": {},
   "outputs": [],
   "source": [
    "# Das ist eine kommentierte Zeile. Sie hat keinen Einfluss auf das Programm\n",
    "# Man sollte diese zur besseren Verständlichkeit des Codes nutzen"
   ]
  },
  {
   "cell_type": "markdown",
   "metadata": {},
   "source": [
    "## Variablen"
   ]
  },
  {
   "cell_type": "code",
   "execution_count": null,
   "metadata": {},
   "outputs": [],
   "source": [
    "# ein int\n",
    "a = 12\n",
    "# ein float (double)\n",
    "b = 23.8\n",
    "# ein anderes float (der Punkt ist sehr wichtig!)\n",
    "c = 12.\n",
    "# ein boolean (der erste Buchstabe muss gross sein!)\n",
    "varname = True\n",
    "# ein string\n",
    "lange_variablename = 'Das ist ein string (aus \"str\" Typ in python)'"
   ]
  },
  {
   "cell_type": "code",
   "execution_count": null,
   "metadata": {},
   "outputs": [],
   "source": [
    "# Variablennamen Richtlinie\n",
    "\n",
    "# ein Variablenname darf nur Buchstaben (abcdef), Nummern(1234567890) und Unterstriche (_) enthalten\n",
    "\n",
    "variable2 = 'Irgendwas'\n",
    "variable3_temperatur = 24.86 \n",
    "\n",
    "# ein solcher Variablenname kann zwar benutzt werden, ist aber nicht sehr vorteilhaft für die Verständlichkeit\n",
    "jkas93j383n__ske83_kjd = False\n",
    "\n",
    "\n",
    "# ein Variablenname darf nicht mit Nummern beginnen!\n",
    "12variable = 43"
   ]
  },
  {
   "cell_type": "markdown",
   "metadata": {},
   "source": [
    "Um einen gut lesbaren Code zu schreiben ist es hilfreich, sich an folgendenden Leitfaden zu halten: https://www.python.org/dev/peps/pep-0008/#function-and-variable-names\n",
    "\n",
    "Variablennamen werden immer mit kleinen Buchstaben und Unterstrichen geschrieben"
   ]
  },
  {
   "cell_type": "code",
   "execution_count": null,
   "metadata": {},
   "outputs": [],
   "source": [
    "ein_standard_variablen_name_im_python = 'super lesbar'\n",
    "einNichtStandardPyhtonVariableName = 'Das ist die Konvention von javascript'\n",
    "kann_man_direkt_wissen_dass_es_eine_variable_ist = 'Aber doch ein bisschen zu lang :)'"
   ]
  },
  {
   "cell_type": "markdown",
   "metadata": {},
   "source": [
    "### **Eine Variable ändert sich nur, wenn sie linksseitig von dem Gleichsymbol steht!!!**"
   ]
  },
  {
   "cell_type": "markdown",
   "metadata": {},
   "source": [
    "## `print` builtin Funktion\n",
    "wenn man den Inhalt von einer Variable ausgeben will"
   ]
  },
  {
   "cell_type": "code",
   "execution_count": null,
   "metadata": {},
   "outputs": [],
   "source": [
    "var1 = 12\n",
    "print(var1)\n",
    "print(var1 * 2)"
   ]
  },
  {
   "cell_type": "markdown",
   "metadata": {},
   "source": [
    "## Variablen Typen"
   ]
  },
  {
   "cell_type": "code",
   "execution_count": null,
   "metadata": {},
   "outputs": [],
   "source": [
    "a = 12\n",
    "b = 23.8\n",
    "varname = True\n",
    "langer_variablename = 'Das ist ein string (aus \"str\" Typ in python)'\n",
    "print('Typ von a ist: ', type(a))\n",
    "print('Typ von b ist: ', type(b))\n",
    "print('Typ von varname ist: ', type(varname))\n",
    "print('Typ von langer_variablenname ist: ', type(langer_variablename))"
   ]
  },
  {
   "cell_type": "markdown",
   "metadata": {},
   "source": [
    "### Umwandlung der Typen mit builtin Funktionen "
   ]
  },
  {
   "cell_type": "code",
   "execution_count": null,
   "metadata": {},
   "outputs": [],
   "source": [
    "b_als_int = int(b)\n",
    "print(b_als_int)\n",
    "print(type(b_als_int))"
   ]
  },
  {
   "cell_type": "code",
   "execution_count": null,
   "metadata": {},
   "outputs": [],
   "source": [
    "b_als_bool = bool(b)\n",
    "print(b_als_bool)\n",
    "print(type(b_als_bool))\n",
    "\n",
    "# nur 0 wird False zurückgeben\n",
    "print('bool(0) --> ', bool(0))\n",
    "\n",
    "langer_variablenname_als_bool = bool(langer_variablenname)\n",
    "print(langer_variablenname_als_bool)\n",
    "print(type(langer_variablenname_als_bool))\n",
    "\n",
    "# nur '' (oder \"\") wird False zurückgeben\n",
    "print('bool(\\'\\') --> ', bool(''))"
   ]
  },
  {
   "cell_type": "code",
   "execution_count": null,
   "metadata": {},
   "outputs": [],
   "source": [
    "# Im python gibt es auch einen besonderen Typ der 'None' heisst. \n",
    "\n",
    "besonderer_typ = None\n",
    "\n",
    "# Wir sprechen darüber später !"
   ]
  },
  {
   "cell_type": "markdown",
   "metadata": {},
   "source": [
    "## Builtin `tuple` Struktur"
   ]
  },
  {
   "cell_type": "code",
   "execution_count": null,
   "metadata": {},
   "outputs": [],
   "source": [
    "# eine Reihenfolge von Werten macht ein tuple\n",
    "\n",
    "ein_tuple = 12, 34, 45\n",
    "a, b, c = ein_tuple\n",
    "\n",
    "print(ein_tuple)\n",
    "print(a)\n",
    "print(b)\n",
    "print(c)"
   ]
  },
  {
   "cell_type": "code",
   "execution_count": null,
   "metadata": {},
   "outputs": [],
   "source": [
    "# alternative Defitintion\n",
    "\n",
    "ein_anderes_tuple = (46, 23, 98)\n",
    "d, e, f = ein_anderes_tuple\n",
    "\n",
    "print(ein_anderes_tuple)\n",
    "print(d)\n",
    "print(e)\n",
    "print(f)"
   ]
  },
  {
   "cell_type": "code",
   "execution_count": null,
   "metadata": {},
   "outputs": [],
   "source": [
    "leeres_tuple = ()\n",
    "print(leeres_tuple)"
   ]
  },
  {
   "cell_type": "code",
   "execution_count": null,
   "metadata": {},
   "outputs": [],
   "source": [
    "# Falls man nur einen Wert braucht \n",
    "\n",
    "ein_tuple = 12, 34, 45\n",
    "\n",
    "b = ein_tuple[1]\n",
    "print(b)"
   ]
  },
  {
   "cell_type": "code",
   "execution_count": null,
   "metadata": {},
   "outputs": [],
   "source": [
    "# Diese `[]` sind ein Operator auf Variablen die \"subscriptable\" sind\n",
    "# z.B. kann man sie nicht auf alle Typen anwenden\n",
    "ein_int = 3\n",
    "print(ein_int[0])"
   ]
  },
  {
   "cell_type": "code",
   "execution_count": null,
   "metadata": {},
   "outputs": [],
   "source": [
    "ein_bool = True\n",
    "print(ein_bool[0])"
   ]
  },
  {
   "cell_type": "code",
   "execution_count": null,
   "metadata": {},
   "outputs": [],
   "source": [
    "ein_float = 12.4\n",
    "print(ein_bool[2])"
   ]
  },
  {
   "cell_type": "code",
   "execution_count": null,
   "metadata": {},
   "outputs": [],
   "source": [
    "# das funktioniert!\n",
    "ein_str = 'etwas schreiben'\n",
    "print(ein_str[4])"
   ]
  },
  {
   "cell_type": "code",
   "execution_count": null,
   "metadata": {},
   "outputs": [],
   "source": [
    "# aber das funktionniert nicht mehr :(\n",
    "print(ein_str[37])"
   ]
  },
  {
   "cell_type": "code",
   "execution_count": null,
   "metadata": {},
   "outputs": [],
   "source": [
    "# weil man nicht über die Länge der Variablen indexen kann!\n",
    "print(len(ein_str))"
   ]
  },
  {
   "cell_type": "code",
   "execution_count": null,
   "metadata": {},
   "outputs": [],
   "source": [
    "# es funktioniert doch nicht!\n",
    "print(ein_str[15])"
   ]
  },
  {
   "cell_type": "code",
   "execution_count": null,
   "metadata": {},
   "outputs": [],
   "source": [
    "# das ist so, weil in python der Index auf 0 statt auf 1 anfängt!\n",
    "print(ein_str[15 - 1])"
   ]
  },
  {
   "cell_type": "code",
   "execution_count": null,
   "metadata": {},
   "outputs": [],
   "source": [
    "# mit einem zusätlichen \":\" Operator, kann man mehrere Elemente einer Variable auswählen\n",
    "\n",
    "# von Anfang\n",
    "print(ein_str[0:5])\n",
    "print(ein_str[:5])\n",
    "\n",
    "# von Ende\n",
    "print(ein_str[6:])\n",
    "print(ein_str[-9:])\n",
    "\n",
    "print(ein_tuple[:2])"
   ]
  },
  {
   "cell_type": "markdown",
   "metadata": {},
   "source": [
    "## Immutable (Unveränderliche) Variablen Typen\n",
    "\n",
    "*i.e*, kann man nicht neue Werte in der Reihenfolge ändern\n",
    "\n",
    "- ```python\n",
    "tuple\n",
    "```\n",
    "\n",
    "- ```python\n",
    "str\n",
    "```"
   ]
  },
  {
   "cell_type": "code",
   "execution_count": null,
   "metadata": {},
   "outputs": [],
   "source": [
    "a_string = 'sjdkljdl'\n",
    "a_string[3] = '3'"
   ]
  },
  {
   "cell_type": "code",
   "execution_count": null,
   "metadata": {},
   "outputs": [],
   "source": [
    "a_tuple = (1, 34, 56)\n",
    "a_tuple[1] = 17"
   ]
  },
  {
   "cell_type": "markdown",
   "metadata": {},
   "source": [
    "## Builtin `list` Struktur\n",
    "(wie Matlab cell array)"
   ]
  },
  {
   "cell_type": "code",
   "execution_count": null,
   "metadata": {},
   "outputs": [],
   "source": [
    "# jetzt kann man Werte in der Reihenfolge ändern. Man schreibt [] für list statt () für tuple\n",
    "\n",
    "a_list = ['a', 'b', 'c']\n",
    "a_list[1] = 'd'\n",
    "print(a_list)"
   ]
  },
  {
   "cell_type": "code",
   "execution_count": null,
   "metadata": {},
   "outputs": [],
   "source": [
    "# Elemente kann man auch in die Reihe hinzufügen\n",
    "\n",
    "a_list.append('e')\n",
    "print(a_list)"
   ]
  },
  {
   "cell_type": "code",
   "execution_count": null,
   "metadata": {},
   "outputs": [],
   "source": [
    "# Elemente kann man auch löschen\n",
    "\n",
    "# löscht das Element an Index 0\n",
    "del a_list[0]\n",
    "print(a_list)\n",
    "\n",
    "# pop das Element an Index 2 aus der list\n",
    "print(a_list.pop(2))\n",
    "print(a_list)"
   ]
  },
  {
   "cell_type": "code",
   "execution_count": null,
   "metadata": {},
   "outputs": [],
   "source": [
    "# Elemente von einer list dürfen auch aus unterschiedlichen Typen bestehen\n",
    "\n",
    "meine_list = [4, 'str', True, 34.3, [1 , 'er']]\n",
    "print(meine_list[2])\n",
    "print(meine_list[-1])"
   ]
  },
  {
   "cell_type": "code",
   "execution_count": null,
   "metadata": {},
   "outputs": [],
   "source": [
    "# der + Operator verknüpft die string, tuple oder list Variablen\n",
    "print('zusammen' + ' ' + 'binden')\n",
    "print((1,2,3) + (4,5))\n",
    "print(['a', 'b', 'c'] + ['d', 'e'])"
   ]
  },
  {
   "cell_type": "markdown",
   "metadata": {},
   "source": [
    "## Builtin `dict` Struktur\n",
    "(wie Matlab `struct`)"
   ]
  },
  {
   "cell_type": "code",
   "execution_count": null,
   "metadata": {},
   "outputs": [],
   "source": [
    "# diese Struktur ist wie eine list, wobei die Indizes immutable sind\n",
    "a_dict = {'a': 1, 'b': 2, 'c': 3}\n",
    "a_dict['b'] = 4\n",
    "print(a_dict)\n",
    "print(a_dict['c'])"
   ]
  },
  {
   "cell_type": "code",
   "execution_count": null,
   "metadata": {},
   "outputs": [],
   "source": [
    "# In den älteren Versionen von python wird die Reihenfolge der eingegebenen Werte in \n",
    "# einer dict Definition nicht gespeichert. Das ist neu seit python 3.6"
   ]
  },
  {
   "cell_type": "code",
   "execution_count": null,
   "metadata": {},
   "outputs": [],
   "source": [
    "print('Nur die Werte', tuple(a_dict.values()))\n",
    "print('Nur die keys',  list(a_dict.keys()))"
   ]
  },
  {
   "cell_type": "code",
   "execution_count": null,
   "metadata": {},
   "outputs": [],
   "source": [
    "# der + Operator ist für dict nich definiert\n",
    "print({12: 'funktionniert'} + {25: 'leider nicht'})"
   ]
  },
  {
   "cell_type": "code",
   "execution_count": null,
   "metadata": {},
   "outputs": [],
   "source": [
    "# der + Operator ist für dict nich definiert\n",
    "d = {12: 'funktionniert'}\n",
    "d.update({25: 'leider nicht'})\n",
    "print(d)"
   ]
  },
  {
   "cell_type": "code",
   "execution_count": null,
   "metadata": {},
   "outputs": [],
   "source": [
    "print(d[12])  # das funktioniert"
   ]
  },
  {
   "cell_type": "code",
   "execution_count": null,
   "metadata": {},
   "outputs": [],
   "source": [
    "print(d[15])  # das funktioniert leider nicht ..."
   ]
  },
  {
   "cell_type": "code",
   "execution_count": null,
   "metadata": {},
   "outputs": [],
   "source": [
    "print(d.get(15))  # Es wird kein Fehler, sondern None zurückgegeben.\n",
    "# Das ist eine Anwendung des besonderen None Typs"
   ]
  },
  {
   "cell_type": "markdown",
   "metadata": {},
   "source": [
    "## Mutable (Veränderlich) Variable Typen\n",
    "\n",
    "- ```python\n",
    "list\n",
    "``` \n",
    "(wie ein `tuple` aber man kann es ändern)\n",
    "\n",
    "- ```python\n",
    "dict\n",
    "``` \n",
    "(ein bisschen besonders)"
   ]
  },
  {
   "cell_type": "markdown",
   "metadata": {},
   "source": [
    "## Bonus : mutable Typ sicherlich kopieren"
   ]
  },
  {
   "cell_type": "code",
   "execution_count": null,
   "metadata": {},
   "outputs": [],
   "source": [
    "a_list = [1, 2, 3]\n",
    "\n",
    "andere_list = a_list\n",
    "\n",
    "andere_list.pop(2)\n",
    "\n",
    "print('andere_list: ', andere_list)\n",
    "print('a_list: ', a_list)"
   ]
  },
  {
   "cell_type": "code",
   "execution_count": null,
   "metadata": {},
   "outputs": [],
   "source": [
    "a_list = [1, 2, 3]\n",
    "\n",
    "andere_list = list(a_list)\n",
    "\n",
    "andere_list.pop(2)\n",
    "\n",
    "print('andere_list: ', andere_list)\n",
    "print('a_list: ', a_list)"
   ]
  },
  {
   "cell_type": "code",
   "execution_count": null,
   "metadata": {},
   "outputs": [],
   "source": [
    "a_dict = {'a': 1, 'b': 2, 'c': 3}\n",
    "\n",
    "andere_dict = a_dict\n",
    "\n",
    "andere_dict.pop('a')\n",
    "\n",
    "print('andere_dict: ', andere_dict)\n",
    "print('a_dict: ', a_dict)"
   ]
  },
  {
   "cell_type": "code",
   "execution_count": null,
   "metadata": {},
   "outputs": [],
   "source": [
    "a_dict = {'a': 1, 'b': 2, 'c': 3}\n",
    "\n",
    "andere_dict = a_dict.copy()\n",
    "\n",
    "andere_dict.pop('a')\n",
    "\n",
    "print('andere_dict: ', andere_dict)\n",
    "print('a_dict: ', a_dict)"
   ]
  },
  {
   "cell_type": "markdown",
   "metadata": {},
   "source": [
    "## Builtin subscriptable Objekte \n",
    "(man kann mit dem Operator `[]` auf das Element zugreifen)\n",
    "\n",
    "- ```python\n",
    "str\n",
    "```\n",
    "\n",
    "- ```python\n",
    "tuple\n",
    "```\n",
    "\n",
    "- ```python\n",
    "list\n",
    "``` \n",
    "\n",
    "- ```python\n",
    "dict\n",
    "``` "
   ]
  },
  {
   "cell_type": "markdown",
   "metadata": {},
   "source": [
    "## Nützliche Operatoenr und Funktionen des subscriptable Typs"
   ]
  },
  {
   "cell_type": "code",
   "execution_count": null,
   "metadata": {},
   "outputs": [],
   "source": [
    "# \"len()\"\" gibt die Länge der Reihenfolge zurück\n",
    "l_dict = len({34: True, 10: 'anderer_Typ'})\n",
    "print(l_dict)\n",
    "\n",
    "l_str = len('a Satz')\n",
    "print(l_str)"
   ]
  },
  {
   "cell_type": "code",
   "execution_count": null,
   "metadata": {},
   "outputs": [],
   "source": [
    "# \"in\" testet, ob ein Element zu der Reihefolge gehört\n",
    "\n",
    "a_tuple = ('q', 32, True)\n",
    "\n",
    "print('q' in a_tuple)\n",
    "\n",
    "print(576 in a_tuple)"
   ]
  },
  {
   "cell_type": "code",
   "execution_count": null,
   "metadata": {},
   "outputs": [],
   "source": [
    "d = {34: True, 10: 'anderer_Typ', 'a_key': 87.3}\n",
    "\n",
    "print('a_key' in d)\n",
    "\n",
    "print('anderer_Typ' in d)\n",
    "\n",
    "print('anderer_Typ' in d.values())"
   ]
  },
  {
   "cell_type": "code",
   "execution_count": null,
   "metadata": {},
   "outputs": [],
   "source": [
    "# die Reihenfolge umkehren\n",
    "\n",
    "a_list = [1, 2, 3]\n",
    "print(a_list[::-1])\n",
    "\n",
    "a_str = 'richtung'\n",
    "print(a_str[::-1])"
   ]
  },
  {
   "cell_type": "markdown",
   "metadata": {},
   "source": [
    "## `for` Schleife\n",
    "Damit können wir über die Elemente in einer Sequenz iterieren"
   ]
  },
  {
   "cell_type": "code",
   "execution_count": null,
   "metadata": {},
   "outputs": [],
   "source": [
    "a_list = ['super', 'list', 51, False]\n",
    "\n",
    "for element in a_list:\n",
    "    print(element)"
   ]
  },
  {
   "cell_type": "code",
   "execution_count": null,
   "metadata": {},
   "outputs": [],
   "source": [
    "# Es geht nicht, wenn das Kolon fehlt!\n",
    "for element in a_list\n",
    "    print(element)"
   ]
  },
  {
   "cell_type": "code",
   "execution_count": null,
   "metadata": {},
   "outputs": [],
   "source": [
    "# Es geht auch nicht, wenn die Einrückung fehlt!\n",
    "for element in a_list:\n",
    "print(element)"
   ]
  },
  {
   "cell_type": "code",
   "execution_count": null,
   "metadata": {},
   "outputs": [],
   "source": [
    "# das Wort \"element\" oben ist kein Stichwort! Man kann auch andere Variablennamen verwenden\n",
    "for banana in a_list:\n",
    "    print(banana)"
   ]
  },
  {
   "cell_type": "code",
   "execution_count": null,
   "metadata": {},
   "outputs": [],
   "source": [
    "for key in a_dict:\n",
    "    print(key, ': ', a_dict[key])"
   ]
  },
  {
   "cell_type": "code",
   "execution_count": null,
   "metadata": {},
   "outputs": [],
   "source": [
    "leere_list = []\n",
    "\n",
    "for key in a_dict:\n",
    "    leere_list.append(key)\n",
    "print(leere_list)"
   ]
  },
  {
   "cell_type": "code",
   "execution_count": null,
   "metadata": {},
   "outputs": [],
   "source": [
    "# nützliche Funktion für Sequenz von Zahlen : \"range()\"\n",
    "\n",
    "start = 2\n",
    "stop = 10\n",
    "schritt = 2\n",
    "\n",
    "for i in range(start, stop, schritt):\n",
    "    print(i)"
   ]
  },
  {
   "cell_type": "code",
   "execution_count": null,
   "metadata": {},
   "outputs": [],
   "source": [
    "for i in range(0, 5, 1):\n",
    "    print(i)"
   ]
  },
  {
   "cell_type": "code",
   "execution_count": null,
   "metadata": {},
   "outputs": [],
   "source": [
    "for i in range(5):\n",
    "    print(i)"
   ]
  },
  {
   "cell_type": "code",
   "execution_count": null,
   "metadata": {},
   "outputs": [],
   "source": [
    "for i in range(4,-1,-1):\n",
    "    print(i)"
   ]
  },
  {
   "cell_type": "code",
   "execution_count": null,
   "metadata": {},
   "outputs": [],
   "source": [
    "# for Schleife mit Indizes: \"enumerate()\"\n",
    "meine_list = [4, 'str', True, 34.3, [1 , 'er']]\n",
    "\n",
    "for apfel, wert in enumerate(meine_list):\n",
    "    print(apfel, '-->', wert)"
   ]
  },
  {
   "cell_type": "code",
   "execution_count": null,
   "metadata": {},
   "outputs": [],
   "source": [
    "# for Schleife mit zwei subscriptable Objekten : \"zip()\"\n",
    "meine_list = [\n",
    "    4, \n",
    "    'str', \n",
    "    True, \n",
    "    34.3, \n",
    "    [1 , 'er']\n",
    "]\n",
    "eine_zeilenkette = 'qwe'\n",
    "for list_element, string_element in zip(meine_list, eine_zeilenkette):\n",
    "    print(list_element, '<-->', string_element)"
   ]
  },
  {
   "cell_type": "code",
   "execution_count": null,
   "metadata": {},
   "outputs": [],
   "source": [
    "# Es läuft, bis einer der subscriptable Objekten durch ist!"
   ]
  },
  {
   "cell_type": "markdown",
   "metadata": {},
   "source": [
    "## Bonus : Eine weitere Verwendung von der `for` Schleife \n",
    "`list` und `dict` \"comprehension\""
   ]
  },
  {
   "cell_type": "code",
   "execution_count": null,
   "metadata": {},
   "outputs": [],
   "source": [
    "eine_zeile_list = [num * 2 for num in range(10)]\n",
    "\n",
    "print(eine_zeile_list)"
   ]
  },
  {
   "cell_type": "code",
   "execution_count": null,
   "metadata": {},
   "outputs": [],
   "source": [
    "keys = range(5)\n",
    "values = [str(x - 2) for x in keys]\n",
    "\n",
    "eine_zeile_dict = {key:value for key, value in zip(keys, values)}\n",
    "print(eine_zeile_dict)"
   ]
  },
  {
   "cell_type": "code",
   "execution_count": null,
   "metadata": {},
   "outputs": [],
   "source": [
    "eine_zeile_dict = {key * 2:'anderung:' + value for key, value in eine_zeile_dict.items()}\n",
    "print(eine_zeile_dict)"
   ]
  },
  {
   "cell_type": "markdown",
   "metadata": {},
   "source": [
    "## `if` Anweisung"
   ]
  },
  {
   "cell_type": "code",
   "execution_count": null,
   "metadata": {},
   "outputs": [],
   "source": [
    "a_boolean = True\n",
    "\n",
    "if a_boolean:\n",
    "    print('Das ist Wahr')\n",
    "    \n",
    "a_boolean = False\n",
    "\n",
    "if a_boolean:\n",
    "    print('Das ist Wahr')"
   ]
  },
  {
   "cell_type": "code",
   "execution_count": null,
   "metadata": {},
   "outputs": [],
   "source": [
    "# Was zwischen \"if\" und dem Kolon steht, ist als Rückgabe der Builtinsfunktion \"bool()\" zu verstehen\n",
    "# Aber man darf \"bool()\"\" nicht schreiben"
   ]
  },
  {
   "cell_type": "code",
   "execution_count": null,
   "metadata": {},
   "outputs": [],
   "source": [
    "# Man kann auch explicit sein --> defensive programming\n",
    "if a_boolean is False:\n",
    "    print('Das ist Falsch')"
   ]
  }
 ],
 "metadata": {
  "kernelspec": {
   "display_name": "Python 3",
   "language": "python",
   "name": "python3"
  },
  "language_info": {
   "codemirror_mode": {
    "name": "ipython",
    "version": 3
   },
   "file_extension": ".py",
   "mimetype": "text/x-python",
   "name": "python",
   "nbconvert_exporter": "python",
   "pygments_lexer": "ipython3",
   "version": "3.6.8"
  }
 },
 "nbformat": 4,
 "nbformat_minor": 4
}
