{
 "cells": [
  {
   "cell_type": "markdown",
   "metadata": {},
   "source": [
    "# Inhalt\n",
    "\n",
    "- Python Code laufen lassen\n",
    "- Python comments\n",
    "- Variablen zuweisen\n",
    "- Benutzung von builtin `print()` Anweisung\n",
    "- Variablen-Typen\n",
    "- Builtin-Typen `int`, `str`, `float`, `bool`\n",
    "- builtin tuple Struktur\n",
    "- builtin list Struktur (cell array in Matlab C = {1,2,3;'text',rand(5,10,2),{11; 22; 33}})\n",
    "    - `:` index\n",
    "    - builtin `append()`\n",
    "    - builtin `len()`\n",
    "- builtin dict Struktur (`struct` in MatLab)\n",
    "- builtin `[]` und `in` Stichwörter für iterable `zip` `enumerate`\n",
    "- `for` Schleife\n",
    "- `dict` und `list` comprehension \n",
    "- `if` Anweisung\n",
    "\n",
    "\n",
    "mutability example with copy of a list with list() to make sure one doesn;t change the list"
   ]
  },
  {
   "cell_type": "markdown",
   "metadata": {},
   "source": [
    "## Python Code laufen lassen\n",
    "- mit pycharm\n",
    "- mit Terminal\n",
    "- mit Jupyter Notebook"
   ]
  },
  {
   "cell_type": "markdown",
   "metadata": {},
   "source": [
    "## Python comments"
   ]
  },
  {
   "cell_type": "code",
   "execution_count": null,
   "metadata": {},
   "outputs": [],
   "source": [
    "# Das ist eine kommentierte Zeile, es macht nichts\n",
    "# Man kann (soll?) diese um gute Codesbeschreibungen zu schreiben"
   ]
  },
  {
   "cell_type": "markdown",
   "metadata": {},
   "source": [
    "## Variablen"
   ]
  },
  {
   "cell_type": "code",
   "execution_count": 3,
   "metadata": {},
   "outputs": [],
   "source": [
    "# ein int\n",
    "a = 12\n",
    "# ein float (double)\n",
    "b = 23.8\n",
    "# ein boolean (die erste Buchstabe muss gross sein!)\n",
    "varname = True\n",
    "# ein string\n",
    "lange_variablename = 'Das ist ein string (aus \"str\" Typ in python)'"
   ]
  },
  {
   "cell_type": "code",
   "execution_count": 1,
   "metadata": {},
   "outputs": [
    {
     "ename": "SyntaxError",
     "evalue": "invalid syntax (<ipython-input-1-3bd979f1221b>, line 13)",
     "output_type": "error",
     "traceback": [
      "\u001b[0;36m  File \u001b[0;32m\"<ipython-input-1-3bd979f1221b>\"\u001b[0;36m, line \u001b[0;32m13\u001b[0m\n\u001b[0;31m    12variable = 43\u001b[0m\n\u001b[0m             ^\u001b[0m\n\u001b[0;31mSyntaxError\u001b[0m\u001b[0;31m:\u001b[0m invalid syntax\n"
     ]
    }
   ],
   "source": [
    "# Variablesnamen Richtlinie\n",
    "\n",
    "# einer Variablesname darf nur Buchstaben (abcdef), Nummern(1234567890) und Unterstriche (_)\n",
    "\n",
    "variable2 = 'Irgengwas'\n",
    "variable3_temperatur = 24.86 \n",
    "\n",
    "# nicht ein sehr schlau Variablesname, aber darf man trotzdem es benutzen\n",
    "jkas93j383n__ske83_kjd = False\n",
    "\n",
    "\n",
    "# das geht nicht, ein Variablesname darf nicht mit Nummern anzufangen!\n",
    "12variable = 43"
   ]
  },
  {
   "cell_type": "markdown",
   "metadata": {},
   "source": [
    "Um mehr lesbar Code zu schreiben, es ist gut Standarten zu folgen : https://www.python.org/dev/peps/pep-0008/#function-and-variable-names\n",
    "\n",
    "Variablesnamen schreiben Sie bitte mit kleinen Buchstaben und Unterstrichen"
   ]
  },
  {
   "cell_type": "code",
   "execution_count": 2,
   "metadata": {},
   "outputs": [],
   "source": [
    "ein_standard_variable_name_im_python = 'super lesbar'\n",
    "einNichtStandardPyhtonVariableName = 'Das ist die Konvention von javascript'\n",
    "kann_man_direct_wissen_es_ein_variable_ist = 'Aber doch ein bisschen zu lange :)'"
   ]
  },
  {
   "cell_type": "markdown",
   "metadata": {},
   "source": [
    "## `print` builtin Funktion\n",
    "wenn man den Inhalt von einer Variable ausgeben will"
   ]
  },
  {
   "cell_type": "code",
   "execution_count": 6,
   "metadata": {},
   "outputs": [
    {
     "name": "stdout",
     "output_type": "stream",
     "text": [
      "12\n",
      "24\n"
     ]
    }
   ],
   "source": [
    "var1 = 12\n",
    "print(var1)\n",
    "print(var1 * 2)"
   ]
  },
  {
   "cell_type": "markdown",
   "metadata": {},
   "source": [
    "## Variablen Typen"
   ]
  },
  {
   "cell_type": "code",
   "execution_count": 8,
   "metadata": {},
   "outputs": [
    {
     "name": "stdout",
     "output_type": "stream",
     "text": [
      "Typ von a ist:  <class 'int'>\n",
      "Typ von b ist:  <class 'float'>\n",
      "Typ von varname ist:  <class 'bool'>\n",
      "Typ von lange_variablename ist:  <class 'str'>\n"
     ]
    }
   ],
   "source": [
    "a = 12\n",
    "b = 23.8\n",
    "varname = True\n",
    "lange_variablename = 'Das ist ein string (aus \"str\" Typ in python)'\n",
    "print('Typ von a ist: ', type(a))\n",
    "print('Typ von b ist: ', type(b))\n",
    "print('Typ von varname ist: ', type(varname))\n",
    "print('Typ von lange_variablename ist: ', type(lange_variablename))"
   ]
  },
  {
   "cell_type": "markdown",
   "metadata": {},
   "source": [
    "### Umwandlung der Typen mit builtin Funktionen "
   ]
  },
  {
   "cell_type": "code",
   "execution_count": 9,
   "metadata": {},
   "outputs": [
    {
     "name": "stdout",
     "output_type": "stream",
     "text": [
      "23\n",
      "<class 'int'>\n"
     ]
    }
   ],
   "source": [
    "b_als_int = int(b)\n",
    "print(b_als_int)\n",
    "print(type(b_als_int))"
   ]
  },
  {
   "cell_type": "code",
   "execution_count": 15,
   "metadata": {},
   "outputs": [
    {
     "name": "stdout",
     "output_type": "stream",
     "text": [
      "True\n",
      "<class 'bool'>\n",
      "bool(0) -->  False\n",
      "True\n",
      "<class 'bool'>\n",
      "bool('') -->  False\n"
     ]
    }
   ],
   "source": [
    "b_als_bool = bool(b)\n",
    "print(b_als_bool)\n",
    "print(type(b_als_bool))\n",
    "\n",
    "# nur 0 wird False zurückgeben\n",
    "print('bool(0) --> ', bool(0))\n",
    "\n",
    "lange_variablename_als_bool = bool(lange_variablename)\n",
    "print(lange_variablename_als_bool)\n",
    "print(type(lange_variablename_als_bool))\n",
    "\n",
    "# nur '' (oder \"\") wird False zurückgeben\n",
    "print('bool(\\'\\') --> ', bool(''))"
   ]
  },
  {
   "cell_type": "markdown",
   "metadata": {},
   "source": [
    "## Builtin `tuple` Struktur"
   ]
  },
  {
   "cell_type": "code",
   "execution_count": 26,
   "metadata": {},
   "outputs": [
    {
     "name": "stdout",
     "output_type": "stream",
     "text": [
      "(12, 34, 45)\n",
      "12\n",
      "34\n",
      "45\n"
     ]
    }
   ],
   "source": [
    "# ein Reihenfolge von Werten macht ein tuple\n",
    "\n",
    "ein_tuple = 12, 34, 45\n",
    "a, b, c = ein_tuple\n",
    "\n",
    "print(ein_tuple)\n",
    "print(a)\n",
    "print(b)\n",
    "print(c)"
   ]
  },
  {
   "cell_type": "code",
   "execution_count": 27,
   "metadata": {},
   "outputs": [
    {
     "name": "stdout",
     "output_type": "stream",
     "text": [
      "(46, 23, 98)\n",
      "46\n",
      "23\n",
      "98\n"
     ]
    }
   ],
   "source": [
    "# alternative Defitintion\n",
    "\n",
    "ein_andere_tuple = (46, 23, 98)\n",
    "d, e, f = ein_andere_tuple\n",
    "\n",
    "print(ein_andere_tuple)\n",
    "print(d)\n",
    "print(e)\n",
    "print(f)"
   ]
  },
  {
   "cell_type": "code",
   "execution_count": 32,
   "metadata": {},
   "outputs": [
    {
     "name": "stdout",
     "output_type": "stream",
     "text": [
      "()\n"
     ]
    }
   ],
   "source": [
    "leer_tuple = ()\n",
    "print(leer_tuple)"
   ]
  },
  {
   "cell_type": "code",
   "execution_count": 33,
   "metadata": {},
   "outputs": [
    {
     "name": "stdout",
     "output_type": "stream",
     "text": [
      "34\n"
     ]
    }
   ],
   "source": [
    "# Im Fall man braucht nur eine Wert\n",
    "\n",
    "ein_tuple = 12, 34, 45\n",
    "\n",
    "b = ein_tuple[1]\n",
    "print(b)"
   ]
  },
  {
   "cell_type": "code",
   "execution_count": 38,
   "metadata": {},
   "outputs": [
    {
     "ename": "TypeError",
     "evalue": "'int' object is not subscriptable",
     "output_type": "error",
     "traceback": [
      "\u001b[0;31m---------------------------------------------------------------------------\u001b[0m",
      "\u001b[0;31mTypeError\u001b[0m                                 Traceback (most recent call last)",
      "\u001b[0;32m<ipython-input-38-71e9cc581a9b>\u001b[0m in \u001b[0;36m<module>\u001b[0;34m\u001b[0m\n\u001b[1;32m      2\u001b[0m \u001b[0;31m# z.B. kann man nicht denen auf allen Typen verwenden\u001b[0m\u001b[0;34m\u001b[0m\u001b[0;34m\u001b[0m\u001b[0;34m\u001b[0m\u001b[0m\n\u001b[1;32m      3\u001b[0m \u001b[0mein_int\u001b[0m \u001b[0;34m=\u001b[0m \u001b[0;36m3\u001b[0m\u001b[0;34m\u001b[0m\u001b[0;34m\u001b[0m\u001b[0m\n\u001b[0;32m----> 4\u001b[0;31m \u001b[0mein_int\u001b[0m\u001b[0;34m[\u001b[0m\u001b[0;36m0\u001b[0m\u001b[0;34m]\u001b[0m\u001b[0;34m\u001b[0m\u001b[0;34m\u001b[0m\u001b[0m\n\u001b[0m",
      "\u001b[0;31mTypeError\u001b[0m: 'int' object is not subscriptable"
     ]
    }
   ],
   "source": [
    "# Diese `[]` sind ein Operator auf Variablen die iterable sind\n",
    "# z.B. kann man nicht denen auf allen Typen verwenden\n",
    "ein_int = 3\n",
    "print(ein_int[0])"
   ]
  },
  {
   "cell_type": "code",
   "execution_count": 35,
   "metadata": {},
   "outputs": [
    {
     "ename": "TypeError",
     "evalue": "'bool' object is not subscriptable",
     "output_type": "error",
     "traceback": [
      "\u001b[0;31m---------------------------------------------------------------------------\u001b[0m",
      "\u001b[0;31mTypeError\u001b[0m                                 Traceback (most recent call last)",
      "\u001b[0;32m<ipython-input-35-72373931f914>\u001b[0m in \u001b[0;36m<module>\u001b[0;34m\u001b[0m\n\u001b[1;32m      1\u001b[0m \u001b[0mein_bool\u001b[0m \u001b[0;34m=\u001b[0m \u001b[0;32mTrue\u001b[0m\u001b[0;34m\u001b[0m\u001b[0;34m\u001b[0m\u001b[0m\n\u001b[0;32m----> 2\u001b[0;31m \u001b[0mein_bool\u001b[0m\u001b[0;34m[\u001b[0m\u001b[0;36m0\u001b[0m\u001b[0;34m]\u001b[0m\u001b[0;34m\u001b[0m\u001b[0;34m\u001b[0m\u001b[0m\n\u001b[0m",
      "\u001b[0;31mTypeError\u001b[0m: 'bool' object is not subscriptable"
     ]
    }
   ],
   "source": [
    "ein_bool = True\n",
    "print(ein_bool[0])"
   ]
  },
  {
   "cell_type": "code",
   "execution_count": 37,
   "metadata": {},
   "outputs": [
    {
     "ename": "TypeError",
     "evalue": "'bool' object is not subscriptable",
     "output_type": "error",
     "traceback": [
      "\u001b[0;31m---------------------------------------------------------------------------\u001b[0m",
      "\u001b[0;31mTypeError\u001b[0m                                 Traceback (most recent call last)",
      "\u001b[0;32m<ipython-input-37-4083587b99ed>\u001b[0m in \u001b[0;36m<module>\u001b[0;34m\u001b[0m\n\u001b[1;32m      1\u001b[0m \u001b[0mein_float\u001b[0m \u001b[0;34m=\u001b[0m \u001b[0;36m12.4\u001b[0m\u001b[0;34m\u001b[0m\u001b[0;34m\u001b[0m\u001b[0m\n\u001b[0;32m----> 2\u001b[0;31m \u001b[0mein_bool\u001b[0m\u001b[0;34m[\u001b[0m\u001b[0;36m2\u001b[0m\u001b[0;34m]\u001b[0m\u001b[0;34m\u001b[0m\u001b[0;34m\u001b[0m\u001b[0m\n\u001b[0m",
      "\u001b[0;31mTypeError\u001b[0m: 'bool' object is not subscriptable"
     ]
    }
   ],
   "source": [
    "ein_float = 12.4\n",
    "print(ein_bool[2])"
   ]
  },
  {
   "cell_type": "code",
   "execution_count": 39,
   "metadata": {},
   "outputs": [
    {
     "name": "stdout",
     "output_type": "stream",
     "text": [
      "s\n"
     ]
    }
   ],
   "source": [
    "# das funktionniert!\n",
    "ein_str = 'ewtas schreiben'\n",
    "print(ein_str[4])"
   ]
  },
  {
   "cell_type": "code",
   "execution_count": 40,
   "metadata": {},
   "outputs": [
    {
     "ename": "IndexError",
     "evalue": "string index out of range",
     "output_type": "error",
     "traceback": [
      "\u001b[0;31m---------------------------------------------------------------------------\u001b[0m",
      "\u001b[0;31mIndexError\u001b[0m                                Traceback (most recent call last)",
      "\u001b[0;32m<ipython-input-40-5815af126db6>\u001b[0m in \u001b[0;36m<module>\u001b[0;34m\u001b[0m\n\u001b[0;32m----> 1\u001b[0;31m \u001b[0mprint\u001b[0m\u001b[0;34m(\u001b[0m\u001b[0mein_str\u001b[0m\u001b[0;34m[\u001b[0m\u001b[0;36m37\u001b[0m\u001b[0;34m]\u001b[0m\u001b[0;34m)\u001b[0m\u001b[0;34m\u001b[0m\u001b[0;34m\u001b[0m\u001b[0m\n\u001b[0m",
      "\u001b[0;31mIndexError\u001b[0m: string index out of range"
     ]
    }
   ],
   "source": [
    "# aber das funktionniert nicht mehr :(\n",
    "print(ein_str[37])"
   ]
  },
  {
   "cell_type": "code",
   "execution_count": 41,
   "metadata": {},
   "outputs": [
    {
     "name": "stdout",
     "output_type": "stream",
     "text": [
      "15\n"
     ]
    }
   ],
   "source": [
    "# weil man nicht über die Länge des Variables indexen kann!\n",
    "\n",
    "print(len(ein_str))"
   ]
  },
  {
   "cell_type": "code",
   "execution_count": 42,
   "metadata": {},
   "outputs": [
    {
     "ename": "IndexError",
     "evalue": "string index out of range",
     "output_type": "error",
     "traceback": [
      "\u001b[0;31m---------------------------------------------------------------------------\u001b[0m",
      "\u001b[0;31mIndexError\u001b[0m                                Traceback (most recent call last)",
      "\u001b[0;32m<ipython-input-42-5bd62614fa1e>\u001b[0m in \u001b[0;36m<module>\u001b[0;34m\u001b[0m\n\u001b[0;32m----> 1\u001b[0;31m \u001b[0mprint\u001b[0m\u001b[0;34m(\u001b[0m\u001b[0mein_str\u001b[0m\u001b[0;34m[\u001b[0m\u001b[0;36m15\u001b[0m\u001b[0;34m]\u001b[0m\u001b[0;34m)\u001b[0m\u001b[0;34m\u001b[0m\u001b[0;34m\u001b[0m\u001b[0m\n\u001b[0m",
      "\u001b[0;31mIndexError\u001b[0m: string index out of range"
     ]
    }
   ],
   "source": [
    "# es funktionniert doch nicht!\n",
    "print(ein_str[15])"
   ]
  },
  {
   "cell_type": "code",
   "execution_count": 43,
   "metadata": {},
   "outputs": [
    {
     "name": "stdout",
     "output_type": "stream",
     "text": [
      "n\n"
     ]
    }
   ],
   "source": [
    "# das ist, weil im python Index auf 0 statt auf 1 anfängt!\n",
    "print(ein_str[15 - 1])"
   ]
  },
  {
   "cell_type": "code",
   "execution_count": 62,
   "metadata": {},
   "outputs": [
    {
     "name": "stdout",
     "output_type": "stream",
     "text": [
      "ewtas\n",
      "ewtas\n",
      "schreiben\n",
      "schreiben\n",
      "(12, 34)\n"
     ]
    }
   ],
   "source": [
    "# mit ein zusätliche \":\" Operator, kann man mehrere Elemente von der Variable auswählen\n",
    "\n",
    "# von Anfang\n",
    "print(ein_str[0:5])\n",
    "print(ein_str[:5])\n",
    "\n",
    "# von Ende\n",
    "print(ein_str[6:])\n",
    "print(ein_str[-9:])\n",
    "\n",
    "print(ein_tuple[:2])"
   ]
  },
  {
   "cell_type": "markdown",
   "metadata": {},
   "source": [
    "## Immutable (Unveränderlich) Variablen Typen\n",
    "\n",
    "*i.e*, kann man nicht neue Werte in die Reihenfolge ändern\n",
    "\n",
    "- ```python\n",
    "tuple\n",
    "```\n",
    "\n",
    "- ```python\n",
    "str\n",
    "```"
   ]
  },
  {
   "cell_type": "code",
   "execution_count": null,
   "metadata": {},
   "outputs": [],
   "source": [
    "a_string = 'sjdkljdl'\n",
    "a_string[3] = '3'"
   ]
  },
  {
   "cell_type": "code",
   "execution_count": 13,
   "metadata": {},
   "outputs": [
    {
     "ename": "TypeError",
     "evalue": "'tuple' object does not support item assignment",
     "output_type": "error",
     "traceback": [
      "\u001b[0;31m---------------------------------------------------------------------------\u001b[0m",
      "\u001b[0;31mTypeError\u001b[0m                                 Traceback (most recent call last)",
      "\u001b[0;32m<ipython-input-13-030e7eaef726>\u001b[0m in \u001b[0;36m<module>\u001b[0;34m\u001b[0m\n\u001b[1;32m      1\u001b[0m \u001b[0ma_tuple\u001b[0m \u001b[0;34m=\u001b[0m \u001b[0;34m(\u001b[0m\u001b[0;36m1\u001b[0m\u001b[0;34m,\u001b[0m \u001b[0;36m34\u001b[0m\u001b[0;34m,\u001b[0m \u001b[0;36m56\u001b[0m\u001b[0;34m)\u001b[0m\u001b[0;34m\u001b[0m\u001b[0;34m\u001b[0m\u001b[0m\n\u001b[0;32m----> 2\u001b[0;31m \u001b[0ma_tuple\u001b[0m\u001b[0;34m[\u001b[0m\u001b[0;36m1\u001b[0m\u001b[0;34m]\u001b[0m \u001b[0;34m=\u001b[0m \u001b[0;36m17\u001b[0m\u001b[0;34m\u001b[0m\u001b[0;34m\u001b[0m\u001b[0m\n\u001b[0m",
      "\u001b[0;31mTypeError\u001b[0m: 'tuple' object does not support item assignment"
     ]
    }
   ],
   "source": [
    "a_tuple = (1, 34, 56)\n",
    "a_tuple[1] = 17"
   ]
  },
  {
   "cell_type": "markdown",
   "metadata": {},
   "source": [
    "## Mutable (Veränderlich) Variable Typen\n",
    "\n",
    "- ```python\n",
    "list\n",
    "``` \n",
    "(wie ein `tuple` aber kann man es ändern)\n",
    "\n",
    "- ```python\n",
    "dict\n",
    "``` \n",
    "(ein bisschen besonderes)"
   ]
  },
  {
   "cell_type": "code",
   "execution_count": 71,
   "metadata": {},
   "outputs": [
    {
     "name": "stdout",
     "output_type": "stream",
     "text": [
      "['a', 'd', 'c']\n"
     ]
    }
   ],
   "source": [
    "# jetzt kann man Werte in Reihenfolge ändern man schreibt [] für list statt () für tuple\n",
    "\n",
    "a_list = ['a', 'b', 'c']\n",
    "a_list[1] = 'd'\n",
    "print(a_list)"
   ]
  },
  {
   "cell_type": "code",
   "execution_count": 72,
   "metadata": {},
   "outputs": [
    {
     "name": "stdout",
     "output_type": "stream",
     "text": [
      "['a', 'd', 'c', 'e']\n"
     ]
    }
   ],
   "source": [
    "# Elemente kann man auch in Reihe hinzufügen\n",
    "\n",
    "a_list.append('e')\n",
    "print(a_list)"
   ]
  },
  {
   "cell_type": "code",
   "execution_count": 73,
   "metadata": {},
   "outputs": [
    {
     "name": "stdout",
     "output_type": "stream",
     "text": [
      "['d', 'c', 'e']\n",
      "e\n",
      "['d', 'c']\n"
     ]
    }
   ],
   "source": [
    "# Elemente kann man auch löschen\n",
    "\n",
    "# löscht das Element an Index 0\n",
    "del a_list[0]\n",
    "print(a_list)\n",
    "\n",
    "# pop das Element an Index 2 aus der list\n",
    "print(a_list.pop(2))\n",
    "print(a_list)"
   ]
  },
  {
   "cell_type": "code",
   "execution_count": 3,
   "metadata": {},
   "outputs": [
    {
     "name": "stdout",
     "output_type": "stream",
     "text": [
      "{'a': 1, 'b': 4, 'c': 3}\n"
     ]
    }
   ],
   "source": [
    "a_dict = {'a': 1, 'b': 2, 'c': 3}\n",
    "a_dict['b'] = 4\n",
    "print(a_dict)"
   ]
  },
  {
   "cell_type": "code",
   "execution_count": 16,
   "metadata": {},
   "outputs": [
    {
     "data": {
      "text/plain": [
       "(1, 34)"
      ]
     },
     "execution_count": 16,
     "metadata": {},
     "output_type": "execute_result"
    }
   ],
   "source": [
    "a_tuple[:2]"
   ]
  },
  {
   "cell_type": "code",
   "execution_count": null,
   "metadata": {},
   "outputs": [],
   "source": [
    "Komma getrennte Werte"
   ]
  }
 ],
 "metadata": {
  "kernelspec": {
   "display_name": "Python 3",
   "language": "python",
   "name": "python3"
  },
  "language_info": {
   "codemirror_mode": {
    "name": "ipython",
    "version": 3
   },
   "file_extension": ".py",
   "mimetype": "text/x-python",
   "name": "python",
   "nbconvert_exporter": "python",
   "pygments_lexer": "ipython3",
   "version": "3.6.7"
  }
 },
 "nbformat": 4,
 "nbformat_minor": 2
}
