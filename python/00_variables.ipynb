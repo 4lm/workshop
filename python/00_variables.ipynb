{
 "cells": [
  {
   "cell_type": "markdown",
   "metadata": {},
   "source": [
    "# Inhalt\n",
    "\n",
    "- Python Code laufen lassen\n",
    "- Variablen zuweisen\n",
    "- Benutzung von builtin `print()` Anweisung\n",
    "- Variablen-Typen\n",
    "- Builtin-Typen `int`, `str`, `float`, `bool`\n",
    "- builtin tuple Struktur\n",
    "- builtin list Struktur\n",
    "    - `:` index\n",
    "    - builtin `append()`\n",
    "    - builtin `len()`\n",
    "- builtin dict Struktur\n",
    "- builtin `[]` und `in` Stichwörter für iterable\n",
    "- `for` Schleife\n",
    "- `dict` und `list` comprehension \n",
    "- `if` Anweisung"
   ]
  },
  {
   "cell_type": "markdown",
   "metadata": {},
   "source": [
    "# Übungen\n",
    "\n",
    "1. Ersetzen Sie den Inhalt von der `list [1, 2, 3]` mit die Werte von dem `dict {'a' : 12, 'b': 14, 'c': 13}`\n",
    "2. Ersetzen Sie den Inhalt von der `list [1, 2, 3]` mit die Werte von dem `dict {1 : 12, 3: 14, 2: 13}`, bei denen die `keys` den `list` Werten entsprechen.\n",
    "3. Benutzen Sie den `tuple ('a', 'b', 'c', 'd')` und die `list [3, 1, 4, 2]` und kreieren ein `dict`, wobei die `keys` der alphabetischen Reihenfolge der Werte entsprechen.\n",
    "4. Stellen Sie den typ von jeder Wert in einer `list` mit `print()` Anweisung dar."
   ]
  },
  {
   "cell_type": "markdown",
   "metadata": {},
   "source": [
    "## Immutable (Unveränderlich)\n",
    "\n",
    "- ```python\n",
    "tuple\n",
    "```\n",
    "\n",
    "- ```python\n",
    "str\n",
    "```"
   ]
  },
  {
   "cell_type": "code",
   "execution_count": null,
   "metadata": {},
   "outputs": [],
   "source": [
    "a_string = 'sjdkljdl'\n",
    "a_string[3] = '3'"
   ]
  },
  {
   "cell_type": "code",
   "execution_count": 13,
   "metadata": {},
   "outputs": [
    {
     "ename": "TypeError",
     "evalue": "'tuple' object does not support item assignment",
     "output_type": "error",
     "traceback": [
      "\u001b[0;31m---------------------------------------------------------------------------\u001b[0m",
      "\u001b[0;31mTypeError\u001b[0m                                 Traceback (most recent call last)",
      "\u001b[0;32m<ipython-input-13-030e7eaef726>\u001b[0m in \u001b[0;36m<module>\u001b[0;34m\u001b[0m\n\u001b[1;32m      1\u001b[0m \u001b[0ma_tuple\u001b[0m \u001b[0;34m=\u001b[0m \u001b[0;34m(\u001b[0m\u001b[0;36m1\u001b[0m\u001b[0;34m,\u001b[0m \u001b[0;36m34\u001b[0m\u001b[0;34m,\u001b[0m \u001b[0;36m56\u001b[0m\u001b[0;34m)\u001b[0m\u001b[0;34m\u001b[0m\u001b[0;34m\u001b[0m\u001b[0m\n\u001b[0;32m----> 2\u001b[0;31m \u001b[0ma_tuple\u001b[0m\u001b[0;34m[\u001b[0m\u001b[0;36m1\u001b[0m\u001b[0;34m]\u001b[0m \u001b[0;34m=\u001b[0m \u001b[0;36m17\u001b[0m\u001b[0;34m\u001b[0m\u001b[0;34m\u001b[0m\u001b[0m\n\u001b[0m",
      "\u001b[0;31mTypeError\u001b[0m: 'tuple' object does not support item assignment"
     ]
    }
   ],
   "source": [
    "a_tuple = (1, 34, 56)\n",
    "a_tuple[1] = 17"
   ]
  },
  {
   "cell_type": "markdown",
   "metadata": {},
   "source": [
    "## Mutable (Veränderlich)\n",
    "\n",
    "- ```python\n",
    "list\n",
    "```\n",
    "\n",
    "- ```python\n",
    "dict\n",
    "```"
   ]
  },
  {
   "cell_type": "code",
   "execution_count": 9,
   "metadata": {},
   "outputs": [
    {
     "name": "stdout",
     "output_type": "stream",
     "text": [
      "['a', 'd', 'c']\n"
     ]
    }
   ],
   "source": [
    "a_list = ['a', 'b', 'c']\n",
    "a_list[1] = 'd'\n",
    "print(a_list)"
   ]
  },
  {
   "cell_type": "code",
   "execution_count": 3,
   "metadata": {},
   "outputs": [
    {
     "name": "stdout",
     "output_type": "stream",
     "text": [
      "{'a': 1, 'b': 4, 'c': 3}\n"
     ]
    }
   ],
   "source": [
    "a_dict = {'a': 1, 'b': 2, 'c': 3}\n",
    "a_dict['b'] = 4\n",
    "print(a_dict)"
   ]
  },
  {
   "cell_type": "code",
   "execution_count": 16,
   "metadata": {},
   "outputs": [
    {
     "data": {
      "text/plain": [
       "(1, 34)"
      ]
     },
     "execution_count": 16,
     "metadata": {},
     "output_type": "execute_result"
    }
   ],
   "source": [
    "a_tuple[:2]"
   ]
  },
  {
   "cell_type": "code",
   "execution_count": null,
   "metadata": {},
   "outputs": [],
   "source": [
    "Komma getrennte Werte"
   ]
  }
 ],
 "metadata": {
  "kernelspec": {
   "display_name": "Python 3",
   "language": "python",
   "name": "python3"
  },
  "language_info": {
   "codemirror_mode": {
    "name": "ipython",
    "version": 3
   },
   "file_extension": ".py",
   "mimetype": "text/x-python",
   "name": "python",
   "nbconvert_exporter": "python",
   "pygments_lexer": "ipython3",
   "version": "3.6.7"
  }
 },
 "nbformat": 4,
 "nbformat_minor": 2
}
