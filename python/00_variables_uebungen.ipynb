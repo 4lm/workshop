{
 "cells": [
  {
   "cell_type": "markdown",
   "metadata": {},
   "source": [
    "# Übung 1\n",
    "Ersetzen Sie den Inhalt von der `list [1, 2, 3]` mit den Werten von dem `dict {'a' : 12, 'b': 14, 'c': 13}`"
   ]
  },
  {
   "cell_type": "code",
   "execution_count": 5,
   "metadata": {},
   "outputs": [
    {
     "data": {
      "text/plain": [
       "[12, 14, 13]"
      ]
     },
     "execution_count": 5,
     "metadata": {},
     "output_type": "execute_result"
    }
   ],
   "source": [
    "a_list = [1, 2, 3]\n",
    "a_dict = {'a' : 12, 'b': 14, 'c': 13}\n",
    "\n",
    "a_list = list(a_dict.values())\n",
    "a_list"
   ]
  },
  {
   "cell_type": "code",
   "execution_count": 10,
   "metadata": {},
   "outputs": [
    {
     "name": "stdout",
     "output_type": "stream",
     "text": [
      "0\n",
      "a\n",
      "1\n",
      "b\n",
      "2\n",
      "c\n"
     ]
    },
    {
     "data": {
      "text/plain": [
       "[12, 14, 13]"
      ]
     },
     "execution_count": 10,
     "metadata": {},
     "output_type": "execute_result"
    }
   ],
   "source": [
    "for idx, key in enumerate(a_dict):\n",
    "    # this is the index\n",
    "    print(idx)\n",
    "    # this is the key\n",
    "    print(key)\n",
    "    # assign element corresponding to the key from the dict to the list\n",
    "    a_list[idx] = a_dict[key]\n",
    "\n",
    "a_list"
   ]
  },
  {
   "cell_type": "markdown",
   "metadata": {},
   "source": [
    "# Übung 2\n",
    "Ersetzen Sie den Inhalt von der `list [1, 2, 3]` mit den Werten von dem `dict {1 : 12, 3: 14, 2: 13}`, bei denen die `keys` den `list` Werten entsprechen.\n"
   ]
  },
  {
   "cell_type": "code",
   "execution_count": null,
   "metadata": {},
   "outputs": [],
   "source": []
  },
  {
   "cell_type": "markdown",
   "metadata": {},
   "source": [
    "# Übung 3\n",
    "Benutzen Sie das `tuple ('a', 'b', 'c', 'd')` und die `list [3, 1, 4, 2]` und kreieren Sie ein `dict`, wobei die `keys` der alphabetischen Reihenfolge der Werte entsprechen."
   ]
  },
  {
   "cell_type": "code",
   "execution_count": null,
   "metadata": {},
   "outputs": [],
   "source": []
  },
  {
   "cell_type": "markdown",
   "metadata": {},
   "source": [
    "# Übung 4\n",
    "Stellen Sie den Typ von jedem Wert in einer `list` mit `print()` Anweisung dar."
   ]
  },
  {
   "cell_type": "code",
   "execution_count": null,
   "metadata": {},
   "outputs": [],
   "source": []
  },
  {
   "cell_type": "markdown",
   "metadata": {},
   "source": [
    "# Übung 5\n",
    "Kreieren Sie eine Struktur, die die verschiedene Altersangaben `(63, 15, 42, 27)` und Haarfarben `('grau', 'blonde', 'schwarz', 'rot')` von Leuten aus diesen zwei entschprechenden tuples (Vornamen : `(Maria, Okan, Maria, Jonas)` und Familiennamen : `(Schmidt, Müller, Klein, Klein)`) enthält. Man soll dann mit dem Namen und Vornamen als Eingabe, das richtige Alter und die Haarfarbe zurückgeben."
   ]
  },
  {
   "cell_type": "code",
   "execution_count": null,
   "metadata": {},
   "outputs": [],
   "source": []
  },
  {
   "cell_type": "markdown",
   "metadata": {},
   "source": [
    "# Übung 6\n",
    "Fügen Sie die ersten `n` Werte aus der angebenenen list `liste = [1, 2, 3, 4, 5 ,6 ,7, 8, 9 ,10]` mit einer `for` Schleife und `if` Anweisung hinzu, wobei `n` eine Nummer zwischen 0 und 10 ist."
   ]
  },
  {
   "cell_type": "code",
   "execution_count": null,
   "metadata": {},
   "outputs": [],
   "source": []
  },
  {
   "cell_type": "markdown",
   "metadata": {},
   "source": [
    "# Übung 7\n",
    "Fügen Sie die ersten `n` Werte aus der angebenenen list `liste = [1, 2, 3, 4, 5 ,6 ,7, 8, 9 ,10]` mit dem `:` Operator hinzu, wobei `n` eine Nummer zwischen 0 und 10 ist."
   ]
  },
  {
   "cell_type": "code",
   "execution_count": null,
   "metadata": {},
   "outputs": [],
   "source": []
  },
  {
   "cell_type": "markdown",
   "metadata": {},
   "source": [
    "# Übung 7\n",
    "Kreieren Sie eine andere list aus der angegebenen list (`[0309298393848, 0407560293782, 0408290617239, 0893670294301]`), die nur die local Telephon Nummer enthält (ohne die Vorwahlen)."
   ]
  }
 ],
 "metadata": {
  "kernelspec": {
   "display_name": "Python 3",
   "language": "python",
   "name": "python3"
  },
  "language_info": {
   "codemirror_mode": {
    "name": "ipython",
    "version": 3
   },
   "file_extension": ".py",
   "mimetype": "text/x-python",
   "name": "python",
   "nbconvert_exporter": "python",
   "pygments_lexer": "ipython3",
   "version": "3.6.7"
  }
 },
 "nbformat": 4,
 "nbformat_minor": 2
}
