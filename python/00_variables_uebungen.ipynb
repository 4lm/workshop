{
 "cells": [
  {
   "cell_type": "markdown",
   "metadata": {},
   "source": [
    "# Übung 1\n",
    "Ersetzen Sie den Inhalt von der `list [1, 2, 3]` mit den Werten von dem `dict {'a' : 12, 'b': 14, 'c': 13}`"
   ]
  },
  {
   "cell_type": "code",
   "execution_count": null,
   "metadata": {},
   "outputs": [],
   "source": [
    "a_list = [1, 2, 3]\n",
    "a_dict = {'a' : 12, 'b': 14, 'c': 13}\n",
    "\n",
    "a_list = list(a_dict.values())\n",
    "a_list"
   ]
  },
  {
   "cell_type": "code",
   "execution_count": null,
   "metadata": {},
   "outputs": [],
   "source": [
    "a_list = [1, 2, 3]\n",
    "a_dict = {'a' : 12, 'b': 14, 'c': 13}\n",
    "\n",
    "for idx, key in enumerate(a_dict):\n",
    "    # this is the index\n",
    "    print(idx)\n",
    "    # this is the key\n",
    "    print(key)\n",
    "    # assign element corresponding to the key from the dict to the list\n",
    "    a_list[idx] = a_dict[key]\n",
    "\n",
    "a_list"
   ]
  },
  {
   "cell_type": "markdown",
   "metadata": {},
   "source": [
    "# Übung 2\n",
    "Ersetzen Sie den Inhalt von der `list [1, 2, 3]` mit den Werten von dem `dict {1 : 12, 3: 14, 2: 13}`, bei denen die `keys` den `list` Werten entsprechen.\n"
   ]
  },
  {
   "cell_type": "code",
   "execution_count": null,
   "metadata": {},
   "outputs": [],
   "source": [
    "a_list = [1, 2, 3]\n",
    "a_dict = {1 : 12, 3: 14, 2: 13}\n",
    "\n",
    "for i, val in enumerate(a_list):\n",
    "    a_list[i] = a_dict[val]\n",
    "a_list"
   ]
  },
  {
   "cell_type": "markdown",
   "metadata": {},
   "source": [
    "# Übung 3\n",
    "Benutzen Sie das `tuple ('a', 'b', 'c', 'd')` und die `list [3, 1, 4, 2]` und kreieren Sie ein `dict`, wobei die `keys` der alphabetischen Reihenfolge der Werte entsprechen."
   ]
  },
  {
   "cell_type": "code",
   "execution_count": null,
   "metadata": {},
   "outputs": [],
   "source": [
    "a_list = sorted([3, 1, 4, 2])\n",
    "a_tuple = ('a', 'b', 'c', 'd')\n",
    "a_dict = {}\n",
    "\n",
    "for l_e, t_e in zip(a_list, a_tuple):\n",
    "    a_dict[t_e]= l_e\n",
    "a_dict"
   ]
  },
  {
   "cell_type": "code",
   "execution_count": null,
   "metadata": {},
   "outputs": [],
   "source": [
    "a_list = sorted([3, 1, 4, 2])\n",
    "a_tuple = ('a', 'b', 'c', 'd')\n",
    "a_dict = {}\n",
    "\n",
    "a_dict = {t_e:l_e for l_e, t_e in zip(a_list, a_tuple)}\n",
    "    \n",
    "a_dict"
   ]
  },
  {
   "cell_type": "markdown",
   "metadata": {},
   "source": [
    "# Übung 4\n",
    "Stellen Sie den Typ von jedem Wert in einer `list` mit `print()` Anweisung dar."
   ]
  },
  {
   "cell_type": "code",
   "execution_count": null,
   "metadata": {},
   "outputs": [],
   "source": [
    "a_list = [1, 1.3, 'ueue', (), {}, []]\n",
    "\n",
    "for el in a_list:\n",
    "    typ = str(type(el))\n",
    "    print(typ)\n",
    "    typ = typ.split(\"'\")[1]\n",
    "    print(typ)"
   ]
  },
  {
   "cell_type": "markdown",
   "metadata": {},
   "source": [
    "# Übung 5\n",
    "Kreieren Sie eine Struktur, die die verschiedenen Altersangaben `(63, 15, 42, 27)` und Haarfarben `('grau', 'blonde', 'schwarz', 'rot')` von Leuten aus diesen zwei entschprechenden tuples (Vornamen : `('Maria', 'Okan', 'Maria', 'Jonas')` und Familiennamen : `('Schmidt', 'Müller', 'Klein', 'Klein')`) enthält. Man soll dann mit dem Namen und Vornamen als Eingabe, das richtige Alter und die Haarfarbe zurückgeben."
   ]
  },
  {
   "cell_type": "code",
   "execution_count": null,
   "metadata": {},
   "outputs": [],
   "source": [
    "alter = (63, 15, 42, 27)\n",
    "haarfarben = ('grau', 'blonde', 'schwarz', 'rot')\n",
    "vornamen = ('Maria', 'Okan', 'Maria', 'Jonas')\n",
    "namen = ('Schmidt', 'Müller', 'Klein', 'Klein')\n",
    "\n",
    "a_dict = {}\n",
    "for alt, haarfarbe, vorname, name in zip(alter, haarfarben, vornamen, namen):\n",
    "    a_dict[(vorname, name)] = (alt, haarfarbe)\n",
    "a_dict"
   ]
  },
  {
   "cell_type": "markdown",
   "metadata": {},
   "source": [
    "# Übung 6\n",
    "Fügen Sie die ersten `n` Werte aus der angebenenen list `liste = [1, 2, 3, 4, 5 ,6 ,7, 8, 9 ,10]` mit einer `for` Schleife und `if` Anweisung hinzu, wobei `n` eine Nummer zwischen 0 und 10 ist."
   ]
  },
  {
   "cell_type": "code",
   "execution_count": null,
   "metadata": {},
   "outputs": [],
   "source": [
    "n = 4\n",
    "\n",
    "liste = [1, 2, 3, 4, 5 ,6 ,7, 8, 9 ,10]\n",
    "\n",
    "leere_liste = []\n",
    "\n",
    "for i in range(n):\n",
    "    leere_liste.append(liste[i])\n",
    "leere_liste"
   ]
  },
  {
   "cell_type": "markdown",
   "metadata": {},
   "source": [
    "# Übung 7\n",
    "Fügen Sie die ersten `n` Werte aus der angebenenen list `liste = [1, 2, 3, 4, 5 ,6 ,7, 8, 9 ,10]` mit dem `:` Operator hinzu, wobei `n` eine Nummer zwischen 0 und 10 ist."
   ]
  },
  {
   "cell_type": "code",
   "execution_count": null,
   "metadata": {},
   "outputs": [],
   "source": [
    "n = 4\n",
    "\n",
    "liste = [1, 2, 3, 4, 5 ,6 ,7, 8, 9 ,10]\n",
    "\n",
    "leere_liste = liste[:n]\n",
    "leere_liste"
   ]
  },
  {
   "cell_type": "markdown",
   "metadata": {},
   "source": [
    "# Übung 7\n",
    "Kreieren Sie eine andere list aus der angegebenen list (`['0309298393848', '0407560293782', '0408290617239', '0893670294301']`), die nur die local Telephonnummern enthält (ohne die Vorwahlen)."
   ]
  },
  {
   "cell_type": "code",
   "execution_count": null,
   "metadata": {},
   "outputs": [],
   "source": [
    "liste = ['0309298393848', '0407560293782', '0408290617239', '0893670294301']\n",
    "leer_liste = []\n",
    "\n",
    "for el in liste:\n",
    "    leer_liste.append(el[3:])\n",
    "leer_liste"
   ]
  }
 ],
 "metadata": {
  "kernelspec": {
   "display_name": "Python 3",
   "language": "python",
   "name": "python3"
  },
  "language_info": {
   "codemirror_mode": {
    "name": "ipython",
    "version": 3
   },
   "file_extension": ".py",
   "mimetype": "text/x-python",
   "name": "python",
   "nbconvert_exporter": "python",
   "pygments_lexer": "ipython3",
   "version": "3.6.7"
  }
 },
 "nbformat": 4,
 "nbformat_minor": 2
}
