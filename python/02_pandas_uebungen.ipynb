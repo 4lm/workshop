{
 "cells": [
  {
   "cell_type": "markdown",
   "metadata": {},
   "source": [
    "## Übung: Dateien lesen und schreiben (und analysieren)\n",
    "\n",
    "Analysieren Sie bitte die Gewinnung der Zunahme und Abnahme der Onshore- und Offshore-Kapazität pro Jahr"
   ]
  },
  {
   "cell_type": "code",
   "execution_count": null,
   "metadata": {},
   "outputs": [],
   "source": [
    "import pandas as pd\n",
    "\n",
    "# must install xlrd\n",
    "df = pd.read_excel('data_windkraftanlagen/Anlagenregister_DK.xls', header=17)\n",
    "df.head()"
   ]
  },
  {
   "cell_type": "code",
   "execution_count": null,
   "metadata": {},
   "outputs": [],
   "source": [
    "# Data Analysis und Transformation"
   ]
  },
  {
   "cell_type": "code",
   "execution_count": null,
   "metadata": {},
   "outputs": [],
   "source": [
    "# must install xlwt\n",
    "df.to_excel('data_windkraftanlagen/Anlagenregister_DK_analysiert.xls')"
   ]
  },
  {
   "cell_type": "markdown",
   "metadata": {},
   "source": [
    "## Beispiel: Unterschied zwischen tidy und messy daten\n",
    "\n",
    "Referenz : \n",
    "- [1] https://www.jstatsoft.org/article/view/v059i10/\n",
    "- [2] https://github.com/hadley/r4ds/blob/master/tidy.Rmd\n",
    "\n",
    "\n",
    "\n",
    "In tidy data [1]:\n",
    "\n",
    "1.  Each variable forms a column.\n",
    "\n",
    "2.  Each observation forms a row.\n",
    "\n",
    "3.  Each type of observational unit forms a table."
   ]
  },
  {
   "cell_type": "code",
   "execution_count": null,
   "metadata": {},
   "outputs": [],
   "source": [
    "df_messy = pd.read_csv('example_messy_data/messy_data.csv')\n",
    "df_messy.head()"
   ]
  },
  {
   "cell_type": "code",
   "execution_count": null,
   "metadata": {},
   "outputs": [],
   "source": [
    "# extract the columns\n",
    "cols = df_messy.columns.to_list()\n",
    "# fetch the index of the variable\n",
    "idx_var = cols.pop(0)\n",
    "# in that case all other columns \n",
    "df_tidy = pd.melt(df_messy, id_vars=[idx_var], value_vars=cols)\n",
    "df_tidy"
   ]
  }
 ],
 "metadata": {
  "kernelspec": {
   "display_name": "Python 3",
   "language": "python",
   "name": "python3"
  },
  "language_info": {
   "codemirror_mode": {
    "name": "ipython",
    "version": 3
   },
   "file_extension": ".py",
   "mimetype": "text/x-python",
   "name": "python",
   "nbconvert_exporter": "python",
   "pygments_lexer": "ipython3",
   "version": "3.6.7"
  }
 },
 "nbformat": 4,
 "nbformat_minor": 4
}
