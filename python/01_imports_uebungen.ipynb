{
 "cells": [
  {
   "cell_type": "markdown",
   "metadata": {},
   "source": [
    "# Übung 1\n",
    "Schreiben Sie eine Funktion, die den Inhalt (key und entschpreschende Wert) von ein `dict` auf jede Zeilen `print`."
   ]
  },
  {
   "cell_type": "code",
   "execution_count": null,
   "metadata": {},
   "outputs": [],
   "source": [
    "def print_dict(a_dict):\n",
    "    for key, val in a_dict.items():\n",
    "        print(key, val)\n",
    "        \n",
    "print_dict({'a' : 12, 'b': 14, 'c': 13})"
   ]
  },
  {
   "cell_type": "markdown",
   "metadata": {},
   "source": [
    "# Übung 2\n",
    "Schreiben Sie eine Funktion, die ein eingegebenes Element in eine eingegebene `list` einführt, aber nur, wenn das Element noch nicht in die `list` ist.\n"
   ]
  },
  {
   "cell_type": "code",
   "execution_count": null,
   "metadata": {},
   "outputs": [],
   "source": [
    "def include_in_list(a_list, element):\n",
    "    if element not in a_list:\n",
    "        a_list.append(element)\n",
    "    else:\n",
    "        print(element, ' belongs already to the list')\n",
    "        \n",
    "liste = [1, 2, 3]\n",
    "print(liste)\n",
    "include_in_list(liste, 2)\n",
    "print(liste)\n",
    "include_in_list(liste, 5)\n",
    "print(liste)"
   ]
  },
  {
   "cell_type": "markdown",
   "metadata": {},
   "source": [
    "# Übung 3\n",
    "Schreiben Sie eine Funktion, die rückmeldet, ob mindestens ein Wert aus einer eingegebenen list von dem Typ `str` ist.\n"
   ]
  },
  {
   "cell_type": "code",
   "execution_count": null,
   "metadata": {},
   "outputs": [],
   "source": [
    "def is_str_in_list(a_list):\n",
    "    answer = False\n",
    "    for element in a_list:\n",
    "        if 'str' in str(type(element)):\n",
    "            answer = True\n",
    "    return answer\n",
    "        \n",
    "print(is_str_in_list([1, 2, 3]))\n",
    "print(is_str_in_list([1, '2', 3]))"
   ]
  },
  {
   "cell_type": "code",
   "execution_count": null,
   "metadata": {},
   "outputs": [],
   "source": [
    "def is_str_in_list(a_list):\n",
    "    answer = False\n",
    "    for element in a_list:\n",
    "        if isinstance(element, str):\n",
    "            answer = True\n",
    "    return answer\n",
    "        \n",
    "print(is_str_in_list([1, 2, 3]))\n",
    "print(is_str_in_list([1, '2', 3]))"
   ]
  },
  {
   "cell_type": "markdown",
   "metadata": {},
   "source": [
    "# Übung 4\n",
    "Schreiben Sie eine Funktion, die eine Teilmenge von den ersten (oder letzten) `n` Werten einer listzurück gibt."
   ]
  },
  {
   "cell_type": "code",
   "execution_count": null,
   "metadata": {},
   "outputs": [],
   "source": [
    "def n_first_elements(a_list, n):\n",
    "    answer = a_list\n",
    "    if 0 <= n < len(a_list):\n",
    "        answer = a_list[:n]\n",
    "    return answer\n",
    "\n",
    "def n_last_elements(a_list, n):\n",
    "    answer = a_list\n",
    "    if 0 <= n < len(a_list):\n",
    "        answer = a_list[len(a_list)-n:]\n",
    "    return answer\n",
    "\n",
    "print(n_first_elements([i for i in range(10)], 7))\n",
    "print(n_last_elements([i for i in range(10)], 3))"
   ]
  },
  {
   "cell_type": "markdown",
   "metadata": {},
   "source": [
    "# Übung 5\n",
    "Mutliplizieren Sie die Nummern aus diese list (`liste = [i for i in range(25)]`) durch `n`, wobei `n` ein Nummer ist."
   ]
  },
  {
   "cell_type": "code",
   "execution_count": null,
   "metadata": {},
   "outputs": [],
   "source": [
    "liste = [i for i in range(25)]\n",
    "\n",
    "n = 3\n",
    "\n",
    "for i in liste:\n",
    "    liste[i] = liste[i] * n\n",
    "liste"
   ]
  },
  {
   "cell_type": "code",
   "execution_count": null,
   "metadata": {},
   "outputs": [],
   "source": [
    "# alternative, wenn man nur mit Nummern arbeitet\n",
    "\n",
    "import numpy as np\n",
    "\n",
    "n = 3\n",
    "liste = np.array([i for i in range(25)])\n",
    "liste = liste * n"
   ]
  },
  {
   "cell_type": "markdown",
   "metadata": {},
   "source": [
    "# Übung 6\n",
    "\n",
    "Schrieben Sie den Code Unten in die richtige Reihen Folge, sodass es laufen lassen kann.\n",
    "\n",
    "Quelle : http://swcarpentry.github.io/python-novice-gapminder/12-for-loops/index.html\n"
   ]
  },
  {
   "cell_type": "code",
   "execution_count": null,
   "metadata": {},
   "outputs": [],
   "source": [
    "cumulative.append(sum)\n",
    "for number in data:\n",
    "cumulative = []\n",
    "sum += number\n",
    "sum = 0\n",
    "print(cumulative)\n",
    "data = [1,2,2,5]"
   ]
  },
  {
   "cell_type": "code",
   "execution_count": null,
   "metadata": {},
   "outputs": [],
   "source": [
    "data = [1,2,2,5]\n",
    "sum = 0\n",
    "cumulative = []\n",
    "for number in data:\n",
    "    sum += number\n",
    "    cumulative.append(sum)\n",
    "print(cumulative)"
   ]
  },
  {
   "cell_type": "markdown",
   "metadata": {},
   "source": [
    "# Übung 7\n",
    "Speichern Sie diese Funktionen in eine .py Datei und Verwenden Sie in einem Jupyter Notebook mit `import`"
   ]
  }
 ],
 "metadata": {
  "kernelspec": {
   "display_name": "Python 3",
   "language": "python",
   "name": "python3"
  },
  "language_info": {
   "codemirror_mode": {
    "name": "ipython",
    "version": 3
   },
   "file_extension": ".py",
   "mimetype": "text/x-python",
   "name": "python",
   "nbconvert_exporter": "python",
   "pygments_lexer": "ipython3",
   "version": "3.6.7"
  }
 },
 "nbformat": 4,
 "nbformat_minor": 2
}
