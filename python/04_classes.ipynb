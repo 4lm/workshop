{
 "cells": [
  {
   "cell_type": "markdown",
   "metadata": {},
   "source": [
    "# Inhalt\n",
    "\n",
    "- Recap functions\n",
    "- ipdb\n",
    "- Objects and OOP\n",
    "- Inheritance"
   ]
  },
  {
   "cell_type": "markdown",
   "metadata": {},
   "source": [
    "# Debugger"
   ]
  },
  {
   "cell_type": "markdown",
   "metadata": {},
   "source": [
    "## In normal .py files"
   ]
  },
  {
   "cell_type": "code",
   "execution_count": null,
   "metadata": {},
   "outputs": [],
   "source": [
    "# first run `pip install ipdb` in your environment\n",
    "import ipdb\n",
    "ipdb.set_trace()"
   ]
  },
  {
   "cell_type": "markdown",
   "metadata": {},
   "source": [
    "## In Jupyter/IPhython notebooks"
   ]
  },
  {
   "cell_type": "code",
   "execution_count": 1,
   "metadata": {},
   "outputs": [],
   "source": [
    "import IPython.core as ipc\n",
    "ipdb = ipc.debugger.Pdb()\n"
   ]
  },
  {
   "cell_type": "code",
   "execution_count": null,
   "metadata": {},
   "outputs": [],
   "source": [
    "\n",
    "a=12\n",
    "\n",
    "ipdb.set_trace()\n",
    "a=13"
   ]
  },
  {
   "cell_type": "markdown",
   "metadata": {},
   "source": [
    "https://wangchuan.github.io/coding/2017/07/12/ipdb-cheat-sheet.html"
   ]
  },
  {
   "cell_type": "markdown",
   "metadata": {},
   "source": [
    "# Object"
   ]
  },
  {
   "cell_type": "markdown",
   "metadata": {},
   "source": [
    "Up to now we learned about variables and functions."
   ]
  },
  {
   "cell_type": "code",
   "execution_count": 3,
   "metadata": {},
   "outputs": [
    {
     "name": "stdout",
     "output_type": "stream",
     "text": [
      "13\n",
      "<function some_function at 0x7fe749238e18>\n",
      "3\n",
      "25\n"
     ]
    }
   ],
   "source": [
    "# avariable\n",
    "my_var = 13\n",
    "print(my_var)\n",
    "# a function\n",
    "def some_function(arg1, arg2):\n",
    "    print(arg1)\n",
    "    return arg1*arg1 + arg2*arg2\n",
    "\n",
    "print(some_function)\n",
    "print(some_function(3, 4))"
   ]
  },
  {
   "cell_type": "markdown",
   "metadata": {},
   "source": [
    "We also learned about modules which are a collection of variables and functions."
   ]
  },
  {
   "cell_type": "code",
   "execution_count": 1,
   "metadata": {},
   "outputs": [
    {
     "name": "stdout",
     "output_type": "stream",
     "text": [
      "a string\n",
      "None\n"
     ]
    }
   ],
   "source": [
    "import my_module\n",
    "\n",
    "print(my_module.some_variable)\n",
    "\n",
    "print(my_module.a_function())"
   ]
  },
  {
   "cell_type": "markdown",
   "metadata": {},
   "source": [
    "However, if you want to program, say an energy model, you will realize pretty soon that it would be handy to have more complexe variables. For example: an energy production device, an energy sink, a distribution bus. A collection of the previous items could define an energy system. \n",
    "\n",
    "Each of those would have common characteristics with specific values. For example, all energy production devices have an output power, it might not be the same for all devices. They could also be a function associated with each device, which would return the cost per kWh for a given output power.\n",
    "\n",
    "We could use dict for that no?"
   ]
  },
  {
   "cell_type": "code",
   "execution_count": 7,
   "metadata": {},
   "outputs": [
    {
     "name": "stdout",
     "output_type": "stream",
     "text": [
      "Help on function prod_cost_function in module __main__:\n",
      "\n",
      "prod_cost_function(power)\n",
      "    Compute production cost in euro per kWh\n",
      "    \n",
      "    :param power: instantaneous power in kW\n",
      "    \n",
      "    :return: cost in euro per kWh\n",
      "\n"
     ]
    }
   ],
   "source": [
    "help(prod_cost_function)"
   ]
  },
  {
   "cell_type": "code",
   "execution_count": 8,
   "metadata": {},
   "outputs": [
    {
     "name": "stdout",
     "output_type": "stream",
     "text": [
      "12000\n",
      "36000\n"
     ]
    }
   ],
   "source": [
    "def prod_cost_function(power):\n",
    "    \"\"\"Compute production cost in euro per kWh\n",
    "    \n",
    "    :param power: instantaneous power in kW\n",
    "    \n",
    "    :return: cost in euro per kWh\n",
    "    \"\"\"\n",
    "    return 12 * power\n",
    "\n",
    "energy_prod_device1 = {\"output_power\": 12000, \"production_cost\": prod_cost_function, \"efficiency\": 0.7}\n",
    "\n",
    "energy_prod_device2 = {\"output_power\": 17000, \"production_cost\": prod_cost_function}\n",
    "\n",
    "\n",
    "print(energy_prod_device[\"output_power\"])\n",
    "\n",
    "print(energy_prod_device[\"production_cost\"](3000))"
   ]
  },
  {
   "cell_type": "code",
   "execution_count": 10,
   "metadata": {},
   "outputs": [
    {
     "name": "stdout",
     "output_type": "stream",
     "text": [
      "hello\n"
     ]
    }
   ],
   "source": [
    "energy_prod_device[\"output_power\"] = \"hello\"\n",
    "print(energy_prod_device[\"output_power\"])"
   ]
  },
  {
   "cell_type": "markdown",
   "metadata": {},
   "source": [
    "That works :)\n",
    "\n",
    "However, we want to be able to define multiple energy production devices and that would involve a lot of copy pasting!\n",
    "\n",
    "**!!! Important rule !!!**\n",
    "If you copy paste code, ask yourself: do I need to do it more than once? If yes --> do not copy paste!\n",
    "\n",
    "So dict are no the best solution after all, we need a new concept: an object!\n",
    "\n",
    "An object is a collection of variables and functions which can be easily created without need of copy-pasting the essential code.\n",
    "\n",
    "When building houses, we distinguish the plan of the house from the house implementation, we could build many copies of a house from the same plan. With object, the plan is called a *class* and each object created from this class is an *instance* from this class. The class contains the definition of the common characteristics shared by its instances."
   ]
  },
  {
   "cell_type": "markdown",
   "metadata": {},
   "source": [
    "## Class"
   ]
  },
  {
   "cell_type": "code",
   "execution_count": 11,
   "metadata": {},
   "outputs": [],
   "source": [
    "class Rectangle:\n",
    "    # das sind die Attibute von der Class 'Rectangle'\n",
    "    length=None\n",
    "    width=None"
   ]
  },
  {
   "cell_type": "code",
   "execution_count": 12,
   "metadata": {},
   "outputs": [
    {
     "name": "stdout",
     "output_type": "stream",
     "text": [
      "None None\n",
      "10 2\n",
      "12 13\n"
     ]
    }
   ],
   "source": [
    "# eine Rectanglesinstanz kreieren\n",
    "a_rectangle = Rectangle()\n",
    "print(a_rectangle.length, a_rectangle.width)\n",
    "\n",
    "# you can modify the attributes of the instance of Rectangle\n",
    "a_rectangle.length = 10\n",
    "a_rectangle.width = 2\n",
    "print(a_rectangle.length, a_rectangle.width)\n",
    "\n",
    "another_rectangle = Rectangle()\n",
    "another_rectangle.length = 12\n",
    "another_rectangle.width = 13\n",
    "print(another_rectangle.length, another_rectangle.width)"
   ]
  },
  {
   "cell_type": "markdown",
   "metadata": {},
   "source": [
    "Not so handy to define the object's attributes\n",
    "\n",
    "It would be nice to define the length and width directly when creating the instance of the Rectangle class"
   ]
  },
  {
   "cell_type": "code",
   "execution_count": 13,
   "metadata": {},
   "outputs": [
    {
     "name": "stdout",
     "output_type": "stream",
     "text": [
      "10 2\n",
      "12 13\n"
     ]
    }
   ],
   "source": [
    "class Rectangle:\n",
    "    length=None\n",
    "    width=None\n",
    "    # \"self\" is a special keyword here, __init__ is also a special function, more later\n",
    "    def __init__(self, banana, apple):\n",
    "        self.length = banana\n",
    "        self.width = apple\n",
    "        \n",
    "# eine Rectanglesinstanz kreieren\n",
    "a_rectangle = Rectangle(10, 2)\n",
    "print(a_rectangle.length, a_rectangle.width)\n",
    "\n",
    "another_rectangle = Rectangle(12, 13)\n",
    "print(another_rectangle.length, another_rectangle.width)"
   ]
  },
  {
   "cell_type": "markdown",
   "metadata": {},
   "source": [
    "Better, right?"
   ]
  },
  {
   "cell_type": "code",
   "execution_count": 15,
   "metadata": {},
   "outputs": [
    {
     "name": "stdout",
     "output_type": "stream",
     "text": [
      "10 2\n"
     ]
    }
   ],
   "source": [
    "# Compact class definition\n",
    "class Rectangle:\n",
    "    length=None\n",
    "    width=None\n",
    "    def __init__(self, length, width):\n",
    "        #self.length = length\n",
    "        #self.width = width\n",
    "\n",
    "# eine Rectanglesinstanz kreieren\n",
    "a_rectangle = Rectangle(10, 2)\n",
    "print(a_rectangle.length, a_rectangle.width)"
   ]
  },
  {
   "cell_type": "code",
   "execution_count": 21,
   "metadata": {},
   "outputs": [
    {
     "name": "stdout",
     "output_type": "stream",
     "text": [
      "Here I am created\n",
      "10 None\n"
     ]
    }
   ],
   "source": [
    "# Class methods = function which are linked to the instances of the class\n",
    "class Rectangle:\n",
    "    length=None\n",
    "    width=None\n",
    "    def __init__(self, length, width):\n",
    "        print(\"Here I am created\")\n",
    "        self.length = length\n",
    "        self.width = width\n",
    "    # \"self\" is always at first position in methods arguments list\n",
    "    # this function belongs to the class \"Rectangle\" (and is therefore a method)\n",
    "    def compute_area(self):\n",
    "        print(\"Now I compute\")\n",
    "        area = 0\n",
    "        if self.length is not None and self.width is not None:\n",
    "            area = self.length * self.width\n",
    "        return area\n",
    "\n",
    "a_rectangle = Rectangle(10, 3)\n",
    "print(a_rectangle.length, a_rectangle.width)\n",
    "#print(a_rectangle.compute_area())"
   ]
  },
  {
   "cell_type": "markdown",
   "metadata": {},
   "source": [
    "Classes name convention: https://www.python.org/dev/peps/pep-0008/#class-names\n"
   ]
  },
  {
   "cell_type": "markdown",
   "metadata": {},
   "source": [
    "## Encapsulation: Public, Private and Protected"
   ]
  },
  {
   "cell_type": "markdown",
   "metadata": {},
   "source": [
    "Example_POO.png"
   ]
  },
  {
   "cell_type": "markdown",
   "metadata": {},
   "source": [
    "### Encapsulation\n",
    "\n",
    "group the attributes and methods of a similar \"concept\" into an object\n",
    "\n",
    "### Abstraction\n",
    "\n",
    "focus on what is characteristic to this \"concept\", hide the details to the user of the object"
   ]
  },
  {
   "cell_type": "code",
   "execution_count": 22,
   "metadata": {},
   "outputs": [
    {
     "name": "stdout",
     "output_type": "stream",
     "text": [
      "black\n",
      "Smith\n"
     ]
    },
    {
     "ename": "AttributeError",
     "evalue": "'Employee' object has no attribute '__salary'",
     "output_type": "error",
     "traceback": [
      "\u001b[0;31m---------------------------------------------------------------------------\u001b[0m",
      "\u001b[0;31mAttributeError\u001b[0m                            Traceback (most recent call last)",
      "\u001b[0;32m<ipython-input-22-0ed3df0a552a>\u001b[0m in \u001b[0;36m<module>\u001b[0;34m\u001b[0m\n\u001b[1;32m      8\u001b[0m \u001b[0mprint\u001b[0m\u001b[0;34m(\u001b[0m\u001b[0mempl\u001b[0m\u001b[0;34m.\u001b[0m\u001b[0mhaircolor\u001b[0m\u001b[0;34m)\u001b[0m\u001b[0;34m\u001b[0m\u001b[0;34m\u001b[0m\u001b[0m\n\u001b[1;32m      9\u001b[0m \u001b[0mprint\u001b[0m\u001b[0;34m(\u001b[0m\u001b[0mempl\u001b[0m\u001b[0;34m.\u001b[0m\u001b[0m_name\u001b[0m\u001b[0;34m)\u001b[0m\u001b[0;34m\u001b[0m\u001b[0;34m\u001b[0m\u001b[0m\n\u001b[0;32m---> 10\u001b[0;31m \u001b[0mprint\u001b[0m\u001b[0;34m(\u001b[0m\u001b[0mempl\u001b[0m\u001b[0;34m.\u001b[0m\u001b[0m__salary\u001b[0m\u001b[0;34m)\u001b[0m\u001b[0;34m\u001b[0m\u001b[0;34m\u001b[0m\u001b[0m\n\u001b[0m",
      "\u001b[0;31mAttributeError\u001b[0m: 'Employee' object has no attribute '__salary'"
     ]
    }
   ],
   "source": [
    "class Employee:\n",
    "    def __init__(self, name, sal):\n",
    "        self.haircolor = \"black\"  # public attribute\n",
    "        self._name = name  # protected attribute \n",
    "        self.__salary = sal  # private attribute\n",
    "\n",
    "empl = Employee(\"Smith\", 1300)\n",
    "print(empl.haircolor)\n",
    "print(empl._name)\n",
    "print(empl.__salary)"
   ]
  },
  {
   "cell_type": "markdown",
   "metadata": {},
   "source": [
    "The idea behind encapsulation is to NEVER let the user modify attributes directly ..., python wants the user to be able to see everything (underscore or double underscore) :), so it will be possible but it should be discouraged (like going to touch the eletric line of the Sbahn is possible but discouraged :P)\n",
    "\n",
    "There is more control achievable, when the attributes are modified within the methods of the class (i.e. one can add type testing of the value, for example, one could test that the __salary value must lie between a min and a max value. If direct assignation of the attribute is possible, it can be set to any value which might not be desired.\n",
    "\n",
    "## Objects recap\n",
    "\n",
    "- defined by a *class*, each object is an *instance* of a class\n",
    "- a way to write less code and to structure the code with concepts\n",
    "\n",
    "## Inheritance, going further and reuse code even more!\n",
    "\n",
    "We can now push the abstraction even further. We could create other classes, Square, Circle, Triangle etc... They all have something in common right? They are all geometrical shapes, for example they all have an area, they all have a perimeter, etc... we could define all this in a class"
   ]
  },
  {
   "cell_type": "code",
   "execution_count": 27,
   "metadata": {},
   "outputs": [],
   "source": [
    "a = GeomShape(3)"
   ]
  },
  {
   "cell_type": "code",
   "execution_count": null,
   "metadata": {},
   "outputs": [],
   "source": [
    "a."
   ]
  },
  {
   "cell_type": "code",
   "execution_count": null,
   "metadata": {},
   "outputs": [],
   "source": []
  },
  {
   "cell_type": "code",
   "execution_count": 3,
   "metadata": {},
   "outputs": [
    {
     "name": "stdout",
     "output_type": "stream",
     "text": [
      "__init__ from Geom SHape\n",
      "20\n",
      "None\n",
      "24\n"
     ]
    }
   ],
   "source": [
    "from my_module import GeomShape\n",
    "\n",
    "# we indicate here that Rectangle is a child class of GeomShape\n",
    "class Rectangle(GeomShape):\n",
    "    def __init__(self, length, width):\n",
    "        # this calls the __init__ method of the GeomShape parent class\n",
    "        super().__init__(num_edges=4)\n",
    "        self.length = length\n",
    "        self.width = width\n",
    "    \n",
    "    def check_area_not_negative(self):\n",
    "        area = self.area()\n",
    "        if area < 0:\n",
    "            raise ValueError(\"Area smaller than zero\")\n",
    "    \n",
    "    def area2(self):\n",
    "        pass\n",
    "    \n",
    "    def area(self):\n",
    "        area = 0\n",
    "        if self.length is not None and self.width is not None:\n",
    "            area = self.length * self.width\n",
    "        return area\n",
    "\n",
    "    def perimeter(self):\n",
    "        perimeter = 0\n",
    "        if self.length is not None and self.width is not None:\n",
    "            perimeter = 2 * (self.length + self.width)\n",
    "        return perimeter\n",
    "        \n",
    "a_rectangle = Rectangle(10, 2)\n",
    "print(a_rectangle.area())\n",
    "print(a_rectangle.check_area_not_negative())\n",
    "\n",
    "print(a_rectangle.perimeter())"
   ]
  },
  {
   "cell_type": "markdown",
   "metadata": {},
   "source": [
    "We can go deeper, a Square is a rectangle with equal sides"
   ]
  },
  {
   "cell_type": "code",
   "execution_count": 4,
   "metadata": {},
   "outputs": [
    {
     "name": "stdout",
     "output_type": "stream",
     "text": [
      "__init__ from Geom SHape\n",
      "100\n",
      "40\n"
     ]
    }
   ],
   "source": [
    "class Square(Rectangle):\n",
    "    def __init__(self, length):\n",
    "        # this calls the __init__ method of the Rectangle parent class\n",
    "        super().__init__(length,  length)\n",
    "\n",
    "# We don't need to write more than that, it inherits from its parents methods\n",
    "a_square = Square(10)\n",
    "print(a_square.area())\n",
    "print(a_square.perimeter())"
   ]
  },
  {
   "cell_type": "code",
   "execution_count": 5,
   "metadata": {},
   "outputs": [
    {
     "data": {
      "text/plain": [
       "(__main__.Rectangle,)"
      ]
     },
     "execution_count": 5,
     "metadata": {},
     "output_type": "execute_result"
    }
   ],
   "source": [
    "Square.__bases__"
   ]
  },
  {
   "cell_type": "code",
   "execution_count": 41,
   "metadata": {},
   "outputs": [
    {
     "ename": "ValueError",
     "evalue": "The unit name should be one of ('Mobi', 'Teo', 'OG', 'Admin')",
     "output_type": "error",
     "traceback": [
      "\u001b[0;31m---------------------------------------------------------------------------\u001b[0m",
      "\u001b[0;31mValueError\u001b[0m                                Traceback (most recent call last)",
      "\u001b[0;32m<ipython-input-41-ce9d148b0b77>\u001b[0m in \u001b[0;36m<module>\u001b[0;34m\u001b[0m\n\u001b[0;32m----> 1\u001b[0;31m \u001b[0ma_person\u001b[0m \u001b[0;34m=\u001b[0m \u001b[0mResearcher\u001b[0m\u001b[0;34m(\u001b[0m\u001b[0;34m\"PF\"\u001b[0m\u001b[0;34m,\u001b[0m \u001b[0;34m\"1987-11-04\"\u001b[0m\u001b[0;34m,\u001b[0m \u001b[0;34m\"physics\"\u001b[0m\u001b[0;34m,\u001b[0m \u001b[0;34m\"Oee\"\u001b[0m\u001b[0;34m)\u001b[0m\u001b[0;34m\u001b[0m\u001b[0;34m\u001b[0m\u001b[0m\n\u001b[0m\u001b[1;32m      2\u001b[0m \u001b[0ma_person\u001b[0m\u001b[0;34m.\u001b[0m\u001b[0mset_salary\u001b[0m\u001b[0;34m(\u001b[0m\u001b[0;36m10000\u001b[0m\u001b[0;34m)\u001b[0m\u001b[0;34m\u001b[0m\u001b[0;34m\u001b[0m\u001b[0m\n\u001b[1;32m      3\u001b[0m \u001b[0ma_person\u001b[0m\u001b[0;34m.\u001b[0m\u001b[0mcheck_salary\u001b[0m\u001b[0;34m(\u001b[0m\u001b[0;36m1234\u001b[0m\u001b[0;34m)\u001b[0m\u001b[0;34m\u001b[0m\u001b[0;34m\u001b[0m\u001b[0m\n",
      "\u001b[0;32m<ipython-input-40-979acfa217f4>\u001b[0m in \u001b[0;36m__init__\u001b[0;34m(self, name, birthdate, academic_background, unit)\u001b[0m\n\u001b[1;32m     13\u001b[0m         \u001b[0mself\u001b[0m\u001b[0;34m.\u001b[0m\u001b[0m__salary\u001b[0m\u001b[0;34m=\u001b[0m\u001b[0;32mNone\u001b[0m\u001b[0;34m\u001b[0m\u001b[0;34m\u001b[0m\u001b[0m\n\u001b[1;32m     14\u001b[0m         \u001b[0;32mif\u001b[0m \u001b[0munit\u001b[0m \u001b[0;32mnot\u001b[0m \u001b[0;32min\u001b[0m \u001b[0mUNITS\u001b[0m\u001b[0;34m:\u001b[0m\u001b[0;34m\u001b[0m\u001b[0;34m\u001b[0m\u001b[0m\n\u001b[0;32m---> 15\u001b[0;31m             \u001b[0;32mraise\u001b[0m \u001b[0mValueError\u001b[0m\u001b[0;34m(\u001b[0m\u001b[0;34m\"The unit name should be one of {}\"\u001b[0m\u001b[0;34m.\u001b[0m\u001b[0mformat\u001b[0m\u001b[0;34m(\u001b[0m\u001b[0mUNITS\u001b[0m\u001b[0;34m)\u001b[0m\u001b[0;34m)\u001b[0m\u001b[0;34m\u001b[0m\u001b[0;34m\u001b[0m\u001b[0m\n\u001b[0m\u001b[1;32m     16\u001b[0m         \u001b[0;32melse\u001b[0m\u001b[0;34m:\u001b[0m\u001b[0;34m\u001b[0m\u001b[0;34m\u001b[0m\u001b[0m\n\u001b[1;32m     17\u001b[0m             \u001b[0mself\u001b[0m\u001b[0;34m.\u001b[0m\u001b[0munit\u001b[0m \u001b[0;34m=\u001b[0m \u001b[0munit\u001b[0m\u001b[0;34m\u001b[0m\u001b[0;34m\u001b[0m\u001b[0m\n",
      "\u001b[0;31mValueError\u001b[0m: The unit name should be one of ('Mobi', 'Teo', 'OG', 'Admin')"
     ]
    }
   ],
   "source": [
    "a_person = Researcher(\"PF\", \"1987-11-04\", \"physics\", \"Oee\")\n",
    "a_person.set_salary(10000)\n",
    "a_person.check_salary(1234)"
   ]
  },
  {
   "cell_type": "code",
   "execution_count": 40,
   "metadata": {},
   "outputs": [],
   "source": [
    "MOBI = \"Mobi\"\n",
    "TEO = \"Teo\"\n",
    "OG = \"OG\"\n",
    "ADMIN = \"Admin\"\n",
    "\n",
    "UNITS = (MOBI, TEO, OG, ADMIN)\n",
    "\n",
    "class People:\n",
    "    def __init__(self, name, birthdate, academic_background, unit):\n",
    "        self.name=name\n",
    "        self.birthdate=birthdate\n",
    "        self.academic_background=academic_background\n",
    "        self.__salary=None\n",
    "        if unit not in UNITS:\n",
    "            raise ValueError(\"The unit name should be one of {}\".format(UNITS))\n",
    "        else:\n",
    "            self.unit = unit\n",
    "        \n",
    "    def age(self):\n",
    "        # TODO get the age from the birthdate\n",
    "        age = self.birthdate\n",
    "        return age\n",
    "    \n",
    "    def set_salary(self, a_salary):\n",
    "        if a_salary < 0:\n",
    "            raise ValueError(\"Don't be so cheap\")\n",
    "        else:\n",
    "            self.__salary = a_salary\n",
    "            \n",
    "    def check_salary(self, password=0):\n",
    "        if password == 1234:\n",
    "            print(self.__salary)\n",
    "        else:\n",
    "            print(\"You are too curious\")\n",
    "            \n",
    "            \n",
    "class Admin(People):\n",
    "    pass\n",
    "\n",
    "class BlaueRunde(People):\n",
    "    pass\n",
    "\n",
    "class Researcher(People):\n",
    "    pass\n",
    "\n",
    "class PostDoc(Researcher):\n",
    "    pass\n",
    "\n",
    "class Student(People):\n",
    "    pass\n",
    "\n",
    "class BachelorStudent(Student):\n",
    "    pass\n",
    "\n",
    "class MasterStudent(Student):\n",
    "    pass\n",
    "\n",
    "class PhD(Student, Researcher):\n",
    "    pass\n",
    "\n",
    "class Institut:\n",
    "    pass\n",
    "\n",
    "class Publication:\n",
    "    pass\n",
    "\n",
    "class Project:\n",
    "    pass\n",
    "\n",
    "class Researchunit:\n",
    "     def __init__(self, name):\n",
    "        self.name = name\n",
    "\n",
    "class ReinerLemoineInstitut(Institut):\n",
    "    def __init__(self, people_list):\n",
    "        self.people_list = people_list\n",
    "        self.project_list =[]\n",
    "        self.tool_list = []\n",
    "        self.research_units = [Researchunit(unit) for unit in UNITS]\n",
    "        \n",
    "    def get_people_number():\n",
    "        \"\"\"Return total number of people within the organisation\"\"\"\n",
    "        pass\n",
    "        "
   ]
  },
  {
   "cell_type": "code",
   "execution_count": null,
   "metadata": {},
   "outputs": [],
   "source": []
  },
  {
   "cell_type": "code",
   "execution_count": null,
   "metadata": {},
   "outputs": [],
   "source": []
  },
  {
   "cell_type": "code",
   "execution_count": null,
   "metadata": {},
   "outputs": [],
   "source": []
  },
  {
   "cell_type": "code",
   "execution_count": null,
   "metadata": {},
   "outputs": [],
   "source": []
  },
  {
   "cell_type": "code",
   "execution_count": null,
   "metadata": {},
   "outputs": [],
   "source": []
  },
  {
   "cell_type": "code",
   "execution_count": null,
   "metadata": {},
   "outputs": [],
   "source": []
  },
  {
   "cell_type": "code",
   "execution_count": null,
   "metadata": {},
   "outputs": [],
   "source": []
  },
  {
   "cell_type": "code",
   "execution_count": null,
   "metadata": {},
   "outputs": [],
   "source": []
  },
  {
   "cell_type": "code",
   "execution_count": null,
   "metadata": {},
   "outputs": [],
   "source": []
  },
  {
   "cell_type": "code",
   "execution_count": null,
   "metadata": {},
   "outputs": [],
   "source": []
  },
  {
   "cell_type": "code",
   "execution_count": null,
   "metadata": {},
   "outputs": [],
   "source": []
  },
  {
   "cell_type": "code",
   "execution_count": null,
   "metadata": {},
   "outputs": [],
   "source": []
  },
  {
   "cell_type": "code",
   "execution_count": null,
   "metadata": {},
   "outputs": [],
   "source": []
  },
  {
   "cell_type": "code",
   "execution_count": null,
   "metadata": {},
   "outputs": [],
   "source": []
  },
  {
   "cell_type": "markdown",
   "metadata": {},
   "source": [
    "*An advantage is that when you modify the parent class and add new useful code, then all children classes will direcly have acces to it without you to have to copy paste any code!*\n",
    "\n",
    "*Another advantage is that you can really conceptualize before coding (what object should I code, what should be available to the end user etc..., this opens up the possibility to extend collaboration with non coders on the concept and help have an overview of code structure*"
   ]
  },
  {
   "cell_type": "markdown",
   "metadata": {},
   "source": [
    "References:\n",
    "\n",
    "- https://www.python.org/dev/peps/pep-0008/#designing-for-inheritance\n",
    "- https://www.python.org/dev/peps/pep-0008/#public-and-internal-interfaces"
   ]
  }
 ],
 "metadata": {
  "kernelspec": {
   "display_name": "Python 3",
   "language": "python",
   "name": "python3"
  },
  "language_info": {
   "codemirror_mode": {
    "name": "ipython",
    "version": 3
   },
   "file_extension": ".py",
   "mimetype": "text/x-python",
   "name": "python",
   "nbconvert_exporter": "python",
   "pygments_lexer": "ipython3",
   "version": "3.6.8"
  }
 },
 "nbformat": 4,
 "nbformat_minor": 4
}
