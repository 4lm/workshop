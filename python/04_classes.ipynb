{
 "cells": [
  {
   "cell_type": "code",
   "execution_count": null,
   "metadata": {},
   "outputs": [],
   "source": []
  },
  {
   "cell_type": "code",
   "execution_count": 5,
   "metadata": {},
   "outputs": [
    {
     "name": "stdout",
     "output_type": "stream",
     "text": [
      "None None\n",
      "10 2\n"
     ]
    }
   ],
   "source": [
    "class Rectangle:\n",
    "    # das sind die Attibute von der Class 'Rectangle'\n",
    "    length=None\n",
    "    width=None\n",
    "\n",
    "# eine Rectanglesinstanz kreieren\n",
    "a_rectangle = Rectangle()\n",
    "print(a_rectangle.length, a_rectangle.width)\n",
    "\n",
    "# die Attribute der Rectanglesinstanz zu modifizieren\n",
    "a_rectangle.length = 10\n",
    "a_rectangle.width = 2\n",
    "print(a_rectangle.length, a_rectangle.width)"
   ]
  },
  {
   "cell_type": "code",
   "execution_count": 4,
   "metadata": {},
   "outputs": [
    {
     "name": "stdout",
     "output_type": "stream",
     "text": [
      "10 2\n"
     ]
    }
   ],
   "source": [
    "class Rectangle:\n",
    "    length=None\n",
    "    width=None\n",
    "    # \"self\" ist ein Stichswort, das zum Classesbereich gehört\n",
    "    def __init__(self, length, width):\n",
    "        self.length = length\n",
    "        self.width = width\n",
    "        \n",
    "# eine Rectanglesinstanz kreieren\n",
    "a_rectangle = Rectangle(10, 2)\n",
    "print(a_rectangle.length, a_rectangle.width)"
   ]
  },
  {
   "cell_type": "code",
   "execution_count": 3,
   "metadata": {},
   "outputs": [
    {
     "name": "stdout",
     "output_type": "stream",
     "text": [
      "10 2\n"
     ]
    }
   ],
   "source": [
    "# kompaktere Classsbeschreibung\n",
    "class Rectangle:\n",
    "    def __init__(self, length, width):\n",
    "        self.length = length\n",
    "        self.width = width\n",
    "\n",
    "# eine Rectanglesinstanz kreieren\n",
    "a_rectangle = Rectangle(10, 2)\n",
    "print(a_rectangle.length, a_rectangle.width)"
   ]
  },
  {
   "cell_type": "code",
   "execution_count": 2,
   "metadata": {},
   "outputs": [
    {
     "name": "stdout",
     "output_type": "stream",
     "text": [
      "20\n"
     ]
    }
   ],
   "source": [
    "# Class Methoden = Funktionen, die innerhalb der Class definiert sind\n",
    "class Rectangle:\n",
    "    def __init__(self, length, width):\n",
    "        self.length = length\n",
    "        self.width = width\n",
    "    # die Nutzung des Stichsworts \"self\" ist immer in der ersten Position\n",
    "    # das heisst : diese Funktion gehört zu der Class \"Rectangle\" (und ist daher eine Methode)\n",
    "    def compute_area(self):\n",
    "        area = 0\n",
    "        if self.length is not None and self.width is not None:\n",
    "            area = self.length * self.width\n",
    "        return area\n",
    "\n",
    "# eine Rectanglesinstanz kreieren\n",
    "a_rectangle = Rectangle(10, 2)\n",
    "print(a_rectangle.compute_area())"
   ]
  },
  {
   "cell_type": "code",
   "execution_count": 1,
   "metadata": {},
   "outputs": [],
   "source": [
    "class GeomShape:\n",
    "    \"\"\"This is a description of the class\"\"\"\n",
    "    \n",
    "    num_edge = None\n",
    "\n",
    "    def __init__(self, num_edges, name = \"\",**kwargs):\n",
    "        \"\"\"This is a description of the method\"\"\"\n",
    "        \n",
    "        #the kwargs is a way to pass keywords arguments without knowing\n",
    "        #how many beforhand, they will be contained in a dict\n",
    "        for arg in kwargs:\n",
    "            print(arg, kwargs[arg])        \n",
    "        \n",
    "        #We want to make sure the number of edges is not impossible\n",
    "        if num_edges < 3 :\n",
    "            raise ValueError(\"a GeomShape needs to have more than 3 edges\")\n",
    "        else:\n",
    "            if isinstance(num_edges, int):\n",
    "                self.num_edge = num_edges\n",
    "            else:\n",
    "                raise TypeError(\"Your should input int only\")\n",
    "        \n",
    "        \n",
    "    def area(self):\n",
    "        pass"
   ]
  },
  {
   "cell_type": "markdown",
   "metadata": {},
   "source": [
    "https://www.python.org/dev/peps/pep-0008/#class-names"
   ]
  },
  {
   "cell_type": "markdown",
   "metadata": {},
   "source": [
    "# Public, Private and Protected"
   ]
  },
  {
   "cell_type": "code",
   "execution_count": null,
   "metadata": {},
   "outputs": [],
   "source": [
    "class Employee:\n",
    "    def __init__(self, name, sal):\n",
    "        self._name=name  # protected attribute \n",
    "        self._salary=sal # protected attribute\n",
    "\n"
   ]
  },
  {
   "cell_type": "markdown",
   "metadata": {},
   "source": [
    "https://www.python.org/dev/peps/pep-0008/#designing-for-inheritance\n",
    "https://www.python.org/dev/peps/pep-0008/#public-and-internal-interfaces"
   ]
  },
  {
   "cell_type": "markdown",
   "metadata": {},
   "source": [
    "Encapsulation :regrouper données et traitements d’un même \"concept\" Abstraction :se focaliser sur ce qui est caractéristique de ce « concept »+interfacecacher les détail"
   ]
  },
  {
   "cell_type": "markdown",
   "metadata": {},
   "source": [
    "Class is the plan for an object\n",
    "\n",
    "__init__\n",
    "\n",
    "__str__\n",
    "\n",
    "others : https://docs.python.org/2.0/ref/customization.html\n",
    "\n",
    "Usually we speak of an object as an instance of a class\n",
    "\n",
    "try to create a class with constructor without init defined\n",
    "\n",
    "https://openclassrooms.com/fr/courses/1894236-programmez-avec-le-langage-c/1897344-creez-les-classes-partie-1-2\n",
    "    \n",
    "Encapsulation principle :\n",
    "\n",
    "NEVER let the user modify attributes directly ..., python wants the user to be able to see everything (underscore or double underscore) :), so it will be possible but it should be discouraged (like going to touch the eletric line of the sbahn is possible but discouraged :P)\n",
    "\n",
    "Idea of example small role play, minecraft, \n",
    "\n",
    "\n",
    "Inheritance\n"
   ]
  }
 ],
 "metadata": {
  "kernelspec": {
   "display_name": "Python 3",
   "language": "python",
   "name": "python3"
  },
  "language_info": {
   "codemirror_mode": {
    "name": "ipython",
    "version": 3
   },
   "file_extension": ".py",
   "mimetype": "text/x-python",
   "name": "python",
   "nbconvert_exporter": "python",
   "pygments_lexer": "ipython3",
   "version": "3.6.8"
  }
 },
 "nbformat": 4,
 "nbformat_minor": 4
}
