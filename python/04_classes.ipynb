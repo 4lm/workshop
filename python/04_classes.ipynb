{
 "cells": [
  {
   "cell_type": "markdown",
   "metadata": {},
   "source": [
    "# Inhalt\n",
    "\n",
    "- Recap functions\n",
    "- ipdb\n",
    "- Objects and OOP\n",
    "- Inheritance"
   ]
  },
  {
   "cell_type": "markdown",
   "metadata": {},
   "source": [
    "# Debugger"
   ]
  },
  {
   "cell_type": "markdown",
   "metadata": {},
   "source": [
    "## In normal .py files"
   ]
  },
  {
   "cell_type": "code",
   "execution_count": null,
   "metadata": {},
   "outputs": [],
   "source": [
    "# first run `pip install ipdb` in your environment\n",
    "import ipdb\n",
    "ipdb.set_trace()"
   ]
  },
  {
   "cell_type": "markdown",
   "metadata": {},
   "source": [
    "## In Jupyter/IPhython notebooks"
   ]
  },
  {
   "cell_type": "code",
   "execution_count": null,
   "metadata": {},
   "outputs": [],
   "source": [
    "import IPython.core as ipc\n",
    "ipdb = ipc.debugger.Pdb()"
   ]
  },
  {
   "cell_type": "markdown",
   "metadata": {},
   "source": [
    "https://wangchuan.github.io/coding/2017/07/12/ipdb-cheat-sheet.html"
   ]
  },
  {
   "cell_type": "markdown",
   "metadata": {},
   "source": [
    "# Object"
   ]
  },
  {
   "cell_type": "markdown",
   "metadata": {},
   "source": [
    "Up to now we learned about variables and functions."
   ]
  },
  {
   "cell_type": "code",
   "execution_count": null,
   "metadata": {},
   "outputs": [],
   "source": [
    "# avariable\n",
    "my_var = 13\n",
    "print(my_var)\n",
    "# a function\n",
    "def some_function(arg1, arg2):\n",
    "    print(arg1)\n",
    "    return arg1*arg1 + arg2*arg2\n",
    "\n",
    "print(some_function)\n",
    "print(some_function(3, 4))"
   ]
  },
  {
   "cell_type": "markdown",
   "metadata": {},
   "source": [
    "We also learned about modules which are a collection of variables and functions."
   ]
  },
  {
   "cell_type": "code",
   "execution_count": null,
   "metadata": {},
   "outputs": [],
   "source": [
    "import my_module\n",
    "\n",
    "print(my_module.some_variable)\n",
    "\n",
    "print(my_module.a_function())"
   ]
  },
  {
   "cell_type": "markdown",
   "metadata": {},
   "source": [
    "However, if you want to program, say an energy model, you will realize pretty soon that it would be handy to have more complexe variables. For example: an energy production device, an energy sink, a distribution bus. A collection of the previous items could define an energy system. \n",
    "\n",
    "Each of those would have common characteristics with specific values. For example, all energy production devices have an output power, it might not be the same for all devices. They could also be a function associated with each device, which would return the cost per kWh for a given output power.\n",
    "\n",
    "We could use dict for that no?"
   ]
  },
  {
   "cell_type": "code",
   "execution_count": null,
   "metadata": {},
   "outputs": [],
   "source": [
    "def prod_cost_function(power):\n",
    "    \"\"\"Compute production cost in euro per kWh\n",
    "    \n",
    "    :param power: instantaneous power in kW\n",
    "    \n",
    "    :return: cost in euro per kWh\n",
    "    \"\"\"\n",
    "    return 12 * power\n",
    "\n",
    "energy_prod_device = {\"output_power\": 12000, \"production_cost\": prod_cost_function}\n",
    "\n",
    "print(energy_prod_device[\"output_power\"])\n",
    "\n",
    "print(energy_prod_device[\"production_cost\"](3000))"
   ]
  },
  {
   "cell_type": "markdown",
   "metadata": {},
   "source": [
    "That works :)\n",
    "\n",
    "However, we want to be able to define multiple energy production devices and that would involve a lot of copy pasting!\n",
    "\n",
    "**!!! Important rule !!!**\n",
    "If you copy paste code, ask yourself: do I need to do it more than once? If yes --> do not copy paste!\n",
    "\n",
    "So dict are no the best solution after all, we need a new concept: an object!\n",
    "\n",
    "An object is a collection of variables and functions which can be easily created without need of copy-pasting the essential code.\n",
    "\n",
    "When building houses, we distinguish the plan of the house from the house implementation, we could build many copies of a house from the same plan. With object, the plan is called a *class* and each object created from this class is an *instance* from this class. The class contains the definition of the common characteristics shared by its instances."
   ]
  },
  {
   "cell_type": "markdown",
   "metadata": {},
   "source": [
    "## Class"
   ]
  },
  {
   "cell_type": "code",
   "execution_count": null,
   "metadata": {},
   "outputs": [],
   "source": [
    "class Rectangle:\n",
    "    # das sind die Attibute von der Class 'Rectangle'\n",
    "    length=None\n",
    "    width=None"
   ]
  },
  {
   "cell_type": "code",
   "execution_count": null,
   "metadata": {},
   "outputs": [],
   "source": [
    "# eine Rectanglesinstanz kreieren\n",
    "a_rectangle = Rectangle()\n",
    "print(a_rectangle.length, a_rectangle.width)\n",
    "\n",
    "# you can modify the attributes of the instance of Rectangle\n",
    "a_rectangle.length = 10\n",
    "a_rectangle.width = 2\n",
    "print(a_rectangle.length, a_rectangle.width)\n",
    "\n",
    "another_rectangle = Rectangle()\n",
    "another_rectangle.length = 12\n",
    "another_rectangle.width = 13\n",
    "print(another_rectangle.length, another_rectangle.width)"
   ]
  },
  {
   "cell_type": "markdown",
   "metadata": {},
   "source": [
    "Not so handy to define the object's attributes\n",
    "\n",
    "It would be nice to define the length and width directly when creating the instance of the Rectangle class"
   ]
  },
  {
   "cell_type": "code",
   "execution_count": null,
   "metadata": {},
   "outputs": [],
   "source": [
    "class Rectangle:\n",
    "    length=None\n",
    "    width=None\n",
    "    # \"self\" is a special keyword here, __init__ is also a special function, more later\n",
    "    def __init__(self, length, width):\n",
    "        self.length = length\n",
    "        self.width = width\n",
    "        \n",
    "# eine Rectanglesinstanz kreieren\n",
    "a_rectangle = Rectangle(10, 2)\n",
    "print(a_rectangle.length, a_rectangle.width)\n",
    "\n",
    "another_rectangle = Rectangle(12, 13)\n",
    "print(another_rectangle.length, another_rectangle.width)"
   ]
  },
  {
   "cell_type": "markdown",
   "metadata": {},
   "source": [
    "Better, right?"
   ]
  },
  {
   "cell_type": "code",
   "execution_count": null,
   "metadata": {},
   "outputs": [],
   "source": [
    "# Compact class definition\n",
    "Rectangle:\n",
    "    def __init__(self, length, width):\n",
    "        self.length = length\n",
    "        self.width = width\n",
    "\n",
    "# eine Rectanglesinstanz kreieren\n",
    "a_rectangle = Rectangle(10, 2)\n",
    "print(a_rectangle.length, a_rectangle.width)"
   ]
  },
  {
   "cell_type": "code",
   "execution_count": null,
   "metadata": {},
   "outputs": [],
   "source": [
    "# Class methods = function which are linked to the instances of the class\n",
    "class Rectangle:\n",
    "    def __init__(self, length, width):\n",
    "        self.length = length\n",
    "        self.width = width\n",
    "    # \"self\" is always at first position in methods arguments list\n",
    "    # this function belongs to the class \"Rectangle\" (and is therefore a method)\n",
    "    def compute_area(self):\n",
    "        area = 0\n",
    "        if self.length is not None and self.width is not None:\n",
    "            area = self.length * self.width\n",
    "        return area\n",
    "\n",
    "a_rectangle = Rectangle(10, 2)\n",
    "print(a_rectangle.compute_area())"
   ]
  },
  {
   "cell_type": "markdown",
   "metadata": {},
   "source": [
    "Classes name convention: https://www.python.org/dev/peps/pep-0008/#class-names\n"
   ]
  },
  {
   "cell_type": "markdown",
   "metadata": {},
   "source": [
    "## Encapsulation: Public, Private and Protected"
   ]
  },
  {
   "cell_type": "markdown",
   "metadata": {},
   "source": [
    "Example_POO.png"
   ]
  },
  {
   "cell_type": "markdown",
   "metadata": {},
   "source": [
    "### Encapsulation\n",
    "\n",
    "group the attributes and methods of a similar \"concept\" into an object\n",
    "\n",
    "### Abstraction\n",
    "\n",
    "focus on what is characteristic to this \"concept\", hide the details to the user of the object"
   ]
  },
  {
   "cell_type": "code",
   "execution_count": null,
   "metadata": {},
   "outputs": [],
   "source": [
    "class Employee:\n",
    "    def __init__(self, name, sal):\n",
    "        self.haircolor = \"black\"  # public attribute\n",
    "        self._name = name  # protected attribute \n",
    "        self.__salary = sal  # private attribute\n",
    "\n",
    "empl = Employee(\"Smith\", 1300)\n",
    "print(empl.haircolor)\n",
    "print(empl._name)\n",
    "print(empl.__salary)"
   ]
  },
  {
   "cell_type": "markdown",
   "metadata": {},
   "source": [
    "The idea behind encapsulation is to NEVER let the user modify attributes directly ..., python wants the user to be able to see everything (underscore or double underscore) :), so it will be possible but it should be discouraged (like going to touch the eletric line of the Sbahn is possible but discouraged :P)\n",
    "\n",
    "There is more control achievable, when the attributes are modified within the methods of the class (i.e. one can add type testing of the value, for example, one could test that the __salary value must lie between a min and a max value. If direct assignation of the attribute is possible, it can be set to any value which might not be desired.\n",
    "\n",
    "## Objects recap\n",
    "\n",
    "- defined by a *class*, each object is an *instance* of a class\n",
    "- a way to write less code and to structure the code with concepts\n",
    "\n",
    "## Inheritance, going further and reuse code even more!\n",
    "\n",
    "We can now push the abstraction even further. We could create other classes, Square, Circle, Triangle etc... They all have something in common right? They are all geometrical shapes, for example they all have an area, they all have a perimeter, etc... we could define all this in a class"
   ]
  },
  {
   "cell_type": "code",
   "execution_count": null,
   "metadata": {},
   "outputs": [],
   "source": [
    "class GeomShape:\n",
    "    \"\"\"This is a description of the class\"\"\"\n",
    "    \n",
    "    num_edge = None\n",
    "\n",
    "    def __init__(self, num_edges, name = \"\", **kwargs):\n",
    "        \"\"\"This is a description of the method\"\"\"\n",
    "        \n",
    "        #the kwargs is a way to pass keywords arguments without knowing\n",
    "        #how many beforhand, they will be contained in a dict\n",
    "        for arg in kwargs:\n",
    "            print(arg, kwargs[arg])        \n",
    "        \n",
    "        #We want to make sure the number of edges is not impossible\n",
    "        if num_edges < 3 :\n",
    "            raise ValueError(\"a GeomShape needs to have more than 3 edges\")\n",
    "        else:\n",
    "            if isinstance(num_edges, int):\n",
    "                self.num_edge = num_edges\n",
    "            else:\n",
    "                raise TypeError(\"Your should input int only\")\n",
    "        \n",
    "    def area(self):\n",
    "        pass\n",
    "    \n",
    "    def perimeter(self):\n",
    "        pass\n",
    "\n",
    "# we indicate here that Rectangle is a child class of GeomShape\n",
    "class Rectangle(GeomShape):\n",
    "    def __init__(self, length, width):\n",
    "        # this calls the __init__ method of the GeomShape parent class\n",
    "        super().__init__(num_edges=4)\n",
    "        self.length = length\n",
    "        self.width = width\n",
    "    def area(self):\n",
    "        area = 0\n",
    "        if self.length is not None and self.width is not None:\n",
    "            area = self.length * self.width\n",
    "        return area\n",
    "\n",
    "    def perimeter(self):\n",
    "        perimeter = 0\n",
    "        if self.length is not None and self.width is not None:\n",
    "            perimeter = 2 * (self.length + self.width)\n",
    "        return perimeter\n",
    "        \n",
    "a_rectangle = Rectangle(10, 2)\n",
    "print(a_rectangle.area())\n",
    "print(a_rectangle.perimeter())"
   ]
  },
  {
   "cell_type": "markdown",
   "metadata": {},
   "source": [
    "We can go deeper, a Square is a rectangle with equal sides"
   ]
  },
  {
   "cell_type": "code",
   "execution_count": null,
   "metadata": {},
   "outputs": [],
   "source": [
    "class Square(Rectangle):\n",
    "    def __init__(self, length):\n",
    "        # this calls the __init__ method of the Rectangle parent class\n",
    "        super().__init__(length,  length)\n",
    "\n",
    "# We don't need to write more than that, it inherits from its parents methods\n",
    "a_square = Square(10)\n",
    "print(a_square.area())\n",
    "print(a_square.perimeter())"
   ]
  },
  {
   "cell_type": "markdown",
   "metadata": {},
   "source": [
    "*An advantage is that when you modify the parent class and add new useful code, then all children classes will direcly have acces to it without you to have to copy paste any code!*\n",
    "\n",
    "*Another advantage is that you can really conceptualize before coding (what object should I code, what should be available to the end user etc..., this opens up the possibility to extend collaboration with non coders on the concept and help have an overview of code structure*"
   ]
  },
  {
   "cell_type": "markdown",
   "metadata": {},
   "source": [
    "References:\n",
    "\n",
    "- https://www.python.org/dev/peps/pep-0008/#designing-for-inheritance\n",
    "- https://www.python.org/dev/peps/pep-0008/#public-and-internal-interfaces"
   ]
  }
 ],
 "metadata": {
  "kernelspec": {
   "display_name": "Python 3",
   "language": "python",
   "name": "python3"
  },
  "language_info": {
   "codemirror_mode": {
    "name": "ipython",
    "version": 3
   },
   "file_extension": ".py",
   "mimetype": "text/x-python",
   "name": "python",
   "nbconvert_exporter": "python",
   "pygments_lexer": "ipython3",
   "version": "3.6.8"
  }
 },
 "nbformat": 4,
 "nbformat_minor": 4
}
