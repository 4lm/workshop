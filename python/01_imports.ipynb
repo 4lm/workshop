{
 "cells": [
  {
   "cell_type": "markdown",
   "metadata": {},
   "source": [
    "# Inhalt\n",
    "\n",
    "- Funktion\n",
    "- Class\n",
    "- Module\n",
    "- Module\n",
    "- pip/conda package install"
   ]
  },
  {
   "cell_type": "markdown",
   "metadata": {},
   "source": [
    "# Funktion"
   ]
  },
  {
   "cell_type": "markdown",
   "metadata": {},
   "source": [
    "## Funktion definieren"
   ]
  },
  {
   "cell_type": "markdown",
   "metadata": {},
   "source": [
    "## Funktion Argumente"
   ]
  },
  {
   "cell_type": "markdown",
   "metadata": {},
   "source": [
    "## Funktion Rückgaben"
   ]
  },
  {
   "cell_type": "markdown",
   "metadata": {},
   "source": [
    "### **Eine Funktion gibt immer mindestens `None` zurück**"
   ]
  },
  {
   "cell_type": "markdown",
   "metadata": {},
   "source": [
    "## Funktion docstring"
   ]
  },
  {
   "cell_type": "code",
   "execution_count": null,
   "metadata": {},
   "outputs": [],
   "source": [
    "# Zeigt die docstring an\n",
    "help(funktionsname)"
   ]
  },
  {
   "cell_type": "markdown",
   "metadata": {},
   "source": [
    "# Class"
   ]
  },
  {
   "cell_type": "code",
   "execution_count": null,
   "metadata": {},
   "outputs": [],
   "source": [
    "class Rectangle:\n",
    "    # die sind die Attibute von der Class 'Rectangle'\n",
    "    length=None\n",
    "    width=None\n",
    "\n",
    "# eine Rectanglesinstanz kreieren\n",
    "a_rectangle = Rectangle()\n",
    "print(a_rectangle.length, a_rectangle.width)\n",
    "\n",
    "# die Attribute der Rectanglesinstanz zu modifizieren\n",
    "a_rectangle.length = 10\n",
    "a_rectangle.width = 2\n",
    "print(a_rectangle.length, a_rectangle.width)"
   ]
  },
  {
   "cell_type": "code",
   "execution_count": null,
   "metadata": {},
   "outputs": [],
   "source": [
    "class Rectangle:\n",
    "    length=None\n",
    "    width=None\n",
    "    # \"self\" ist einer Stichswort, der zum Classesbereich gehört\n",
    "    def __init__(self, length, width):\n",
    "        self.length = length\n",
    "        self.width = width\n",
    "        \n",
    "# eine Rectanglesinstanz kreieren\n",
    "a_rectangle = Rectangle(10, 2)\n",
    "print(a_rectangle.length, a_rectangle.width)"
   ]
  },
  {
   "cell_type": "code",
   "execution_count": null,
   "metadata": {},
   "outputs": [],
   "source": [
    "# kompaktere Classsbeschreibung\n",
    "class Rectangle:\n",
    "    def __init__(self, length, width):\n",
    "        self.length = length\n",
    "        self.width = width\n",
    "\n",
    "# eine Rectanglesinstanz kreieren\n",
    "a_rectangle = Rectangle(10, 2)\n",
    "print(a_rectangle.length, a_rectangle.width)"
   ]
  },
  {
   "cell_type": "code",
   "execution_count": null,
   "metadata": {},
   "outputs": [],
   "source": [
    "# Class Methoden = Funktionnen, die innerhalb der Class definieren sind\n",
    "class Rectangle:\n",
    "    def __init__(self, length, width):\n",
    "        self.length = length\n",
    "        self.width = width\n",
    "    # die Nutzung des Stichsworts \"self\", immer in der ersten Position, ist hier wichtig\n",
    "    # das heisst : diese Funktion gehört zu der Class \"Rectangle\" (und ist daher eine Methode)\n",
    "    def compute_area(self):\n",
    "        area = 0\n",
    "        if self.length is not None and self.width is not None:\n",
    "            area = self.length * self.width\n",
    "        return area\n",
    "\n",
    "# eine Rectanglesinstanz kreieren\n",
    "a_rectangle = Rectangle(10, 2)\n",
    "print(a_rectangle.compute_area())"
   ]
  },
  {
   "cell_type": "markdown",
   "metadata": {},
   "source": [
    "# Module\n",
    "Ein *module* ist eine Datei, die python Funktionen oder Classen enthält, welche wiederverwendbar sind.\n",
    "\n",
    "Eine *library* ist eine Sammlung von modules."
   ]
  },
  {
   "cell_type": "markdown",
   "metadata": {},
   "source": [
    "## Module importieren"
   ]
  },
  {
   "cell_type": "code",
   "execution_count": null,
   "metadata": {},
   "outputs": [],
   "source": [
    "import os\n",
    "print(os.path.abspath(os.path.curdir))"
   ]
  },
  {
   "cell_type": "code",
   "execution_count": null,
   "metadata": {},
   "outputs": [],
   "source": [
    "# nur ein Paar Funktionen/Variablen/Modulen importieren\n",
    "from os.path import abspath, curdir\n",
    "print(abspath(curdir))"
   ]
  },
  {
   "cell_type": "code",
   "execution_count": null,
   "metadata": {},
   "outputs": [],
   "source": [
    "# Aliases\n",
    "from os.path import abspath as banana, curdir as apfel_strudel\n",
    "print(banana(apfel_strudel))"
   ]
  },
  {
   "cell_type": "code",
   "execution_count": null,
   "metadata": {},
   "outputs": [],
   "source": [
    "# builtin Funktion help\n",
    "help(os.path)"
   ]
  },
  {
   "cell_type": "markdown",
   "metadata": {},
   "source": [
    "## Pip install non-builtin modules"
   ]
  }
 ],
 "metadata": {
  "kernelspec": {
   "display_name": "Python 3",
   "language": "python",
   "name": "python3"
  },
  "language_info": {
   "codemirror_mode": {
    "name": "ipython",
    "version": 3
   },
   "file_extension": ".py",
   "mimetype": "text/x-python",
   "name": "python",
   "nbconvert_exporter": "python",
   "pygments_lexer": "ipython3",
   "version": "3.6.7"
  }
 },
 "nbformat": 4,
 "nbformat_minor": 2
}
