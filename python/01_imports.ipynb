{
 "cells": [
  {
   "cell_type": "markdown",
   "metadata": {},
   "source": [
    "# Inhalt\n",
    "\n",
    "- Funktion definieren\n",
    "- Funktion laufen\n",
    "- Module\n",
    "- Module importieren und benutzen\n",
    "- ?? class ?? (vielleicht das ist zu viel...)\n",
    "- pip/conda package install"
   ]
  },
  {
   "cell_type": "markdown",
   "metadata": {},
   "source": [
    "# Übungen\n",
    "\n",
    "1. Schreiben Sie eine Funktion, die den Inhalt von ein `dict` auf jede Zeilen `print`.\n",
    "2. Schreiben Sie eine Funktion, die ein eingegebenes Element in `list` einführt, aber nur, wenn das Element noch nicht in die `list` ist.\n",
    "3. Schreiben Sie eine Funktion, die rückmeldet, ob mindestens ein Wert von typ `str` ist.\n",
    "4. Schreiben Sie eine Funktion, die eine Teilmenge von den ersten (oder letzten) `n` Werten rückmeltet.\n",
    "x. Benutzen Sie diese Funktionen in eine Jupyter notebook mit `import` "
   ]
  },
  {
   "cell_type": "code",
   "execution_count": 4,
   "metadata": {},
   "outputs": [
    {
     "name": "stdout",
     "output_type": "stream",
     "text": [
      "['a', 'd', 'c']\n"
     ]
    }
   ],
   "source": [
    "def "
   ]
  },
  {
   "cell_type": "code",
   "execution_count": 6,
   "metadata": {},
   "outputs": [
    {
     "name": "stdout",
     "output_type": "stream",
     "text": [
      "{'a': 1, 'b': 4, 'c': 3}\n"
     ]
    }
   ],
   "source": []
  }
 ],
 "metadata": {
  "kernelspec": {
   "display_name": "Python 3",
   "language": "python",
   "name": "python3"
  },
  "language_info": {
   "codemirror_mode": {
    "name": "ipython",
    "version": 3
   },
   "file_extension": ".py",
   "mimetype": "text/x-python",
   "name": "python",
   "nbconvert_exporter": "python",
   "pygments_lexer": "ipython3",
   "version": "3.6.7"
  }
 },
 "nbformat": 4,
 "nbformat_minor": 2
}
