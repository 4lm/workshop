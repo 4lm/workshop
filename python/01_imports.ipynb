{
 "cells": [
  {
   "cell_type": "markdown",
   "metadata": {},
   "source": [
    "# Inhalt\n",
    "\n",
    "- Funktion\n",
    "- Class\n",
    "- Module\n",
    "- Module\n",
    "- pip/conda package install"
   ]
  },
  {
   "cell_type": "markdown",
   "metadata": {},
   "source": [
    "# Funktion"
   ]
  },
  {
   "cell_type": "markdown",
   "metadata": {},
   "source": [
    "## Funktion definieren"
   ]
  },
  {
   "cell_type": "code",
   "execution_count": null,
   "metadata": {},
   "outputs": [],
   "source": [
    "# \"def\" ist hier einer Stichswort, \":\" ist auch wichtig\n",
    "def apfel_muss():\n",
    "    print('ich bin ein Apfelmuss')"
   ]
  },
  {
   "cell_type": "code",
   "execution_count": null,
   "metadata": {},
   "outputs": [],
   "source": [
    "# das macht nichts\n",
    "apfel_muss"
   ]
  },
  {
   "cell_type": "code",
   "execution_count": null,
   "metadata": {},
   "outputs": [],
   "source": [
    "# muss man () nach dem Funktionsname schreiben\n",
    "apfel_muss()"
   ]
  },
  {
   "cell_type": "markdown",
   "metadata": {},
   "source": [
    "## Funktion Argumente"
   ]
  },
  {
   "cell_type": "code",
   "execution_count": null,
   "metadata": {},
   "outputs": [],
   "source": [
    "def frucht_salat(banana, apfel, orange):\n",
    "    salat = orange + banana + apfel\n",
    "    print(salat)\n",
    "\n",
    "frucht_salat(2,4,1)\n",
    "\n",
    "frucht_salat('apfel', 'banana', 'kiwi')"
   ]
  },
  {
   "cell_type": "code",
   "execution_count": null,
   "metadata": {},
   "outputs": [],
   "source": [
    "def frucht_salat(banana, apfel, orange):\n",
    "    salat = orange + banana + apfel\n",
    "    print(salat)\n",
    "\n",
    "# die Variable \"salat\" existiert nicht ausser der \"scope\" der Funktion \n",
    "salat"
   ]
  },
  {
   "cell_type": "code",
   "execution_count": null,
   "metadata": {},
   "outputs": [],
   "source": [
    "# Es ist eine Konvention, global Variablen mit grossen Buchstaben zu schreiben\n",
    "GLOBAL_VARIABLE = 12\n",
    "\n",
    "def leer_funktion():\n",
    "    # die Variable \"GLOBAL_VARIABLE\" existiert ausser der \"scope dieser Funktion\"\n",
    "    print(GLOBAL_VARIABLE)\n",
    "\n",
    "leer_funktion()\n",
    "\n",
    "GLOBAL_VARIABLE = 'change value'\n",
    "\n",
    "# deshalb kann die Wert von der Variable sich ändern\n",
    "leer_funktion()"
   ]
  },
  {
   "cell_type": "markdown",
   "metadata": {},
   "source": [
    "### Die Variablen/Funktionen/Objekte, die nicht dieselbe indent-level haben, sind nicht in dieselben \"scope\""
   ]
  },
  {
   "cell_type": "code",
   "execution_count": null,
   "metadata": {},
   "outputs": [],
   "source": [
    "def funktion_mit_predefinierte_argumente(a, b=12, c='str'):\n",
    "    print(a)\n",
    "    print(b)\n",
    "    print(c)\n",
    "    \n",
    "funktion_mit_predefinierte_argumente(True)"
   ]
  },
  {
   "cell_type": "code",
   "execution_count": null,
   "metadata": {},
   "outputs": [],
   "source": [
    "funktion_mit_predefinierte_argumente(True, 'Wort', 54.3)"
   ]
  },
  {
   "cell_type": "code",
   "execution_count": null,
   "metadata": {},
   "outputs": [],
   "source": [
    "funktion_mit_predefinierte_argumente(c=17, a='b')"
   ]
  },
  {
   "cell_type": "code",
   "execution_count": null,
   "metadata": {},
   "outputs": [],
   "source": [
    "# das funktioniert nicht, die Argument \"a\" muss angegeben sein\n",
    "funktion_mit_predefinierte_argumente()"
   ]
  },
  {
   "cell_type": "code",
   "execution_count": null,
   "metadata": {},
   "outputs": [],
   "source": [
    "# Die keys von dem dict müssen dieselbe als die Funktionsargumentsnamen sein\n",
    "arg_dict = {'a': 132, 'b': 'Wert'}\n",
    "\n",
    "# Die ** ist hier wichtig aber nicht die Reihenfolge die Argumente\n",
    "funktion_mit_predefinierte_argumente(**arg_dict)"
   ]
  },
  {
   "cell_type": "code",
   "execution_count": null,
   "metadata": {},
   "outputs": [],
   "source": [
    "# Die listslänge muss immer gross genug, um alle die normalen Argumente anzuwenden. Und immer kleiner oder gleich wie die Anzahle von Argumenten\n",
    "arg_list=[1, 2, 3]\n",
    "funktion_mit_predefinierte_argumente(*arg_list)"
   ]
  },
  {
   "cell_type": "markdown",
   "metadata": {},
   "source": [
    "## Funktion Rückgaben"
   ]
  },
  {
   "cell_type": "code",
   "execution_count": null,
   "metadata": {},
   "outputs": [],
   "source": [
    "def apfel_muss():\n",
    "    print('ich bin ein Apfelmuss')\n",
    "    \n",
    "var = apfel_muss()\n",
    "print(var)"
   ]
  },
  {
   "cell_type": "code",
   "execution_count": null,
   "metadata": {},
   "outputs": [],
   "source": [
    "def apfel_muss():\n",
    "    return 2\n",
    "\n",
    "var = apfel_muss()\n",
    "print(var)"
   ]
  },
  {
   "cell_type": "markdown",
   "metadata": {},
   "source": [
    "### **Eine Funktion gibt immer mindestens `None` zurück**"
   ]
  },
  {
   "cell_type": "markdown",
   "metadata": {},
   "source": [
    "## Funktion docstring"
   ]
  },
  {
   "cell_type": "code",
   "execution_count": null,
   "metadata": {},
   "outputs": [],
   "source": [
    "def besondere_funktion():\n",
    "    '''Was hier geschrieben ist, wird in der docstring ausgegeben.'''\n",
    "    pass\n",
    "\n",
    "def andere_funktion(arg1):\n",
    "    '''Man kann auch auf\n",
    "    mehrere Zeilen\n",
    "    \n",
    "    die docstring schreiben\n",
    "    \n",
    "    param: arg1: beschreibung\n",
    "    \n",
    "    return None\n",
    "    '''\n",
    "    return None"
   ]
  },
  {
   "cell_type": "code",
   "execution_count": null,
   "metadata": {},
   "outputs": [],
   "source": [
    "# Zeigt die docstring an\n",
    "help(besondere_funktion)\n",
    "\n",
    "help(andere_funktion)"
   ]
  },
  {
   "cell_type": "markdown",
   "metadata": {},
   "source": [
    "# Class"
   ]
  },
  {
   "cell_type": "code",
   "execution_count": null,
   "metadata": {},
   "outputs": [],
   "source": [
    "class Rectangle:\n",
    "    # die sind die Attibute von der Class 'Rectangle'\n",
    "    length=None\n",
    "    width=None\n",
    "\n",
    "# eine Rectanglesinstanz kreieren\n",
    "a_rectangle = Rectangle()\n",
    "print(a_rectangle.length, a_rectangle.width)\n",
    "\n",
    "# die Attribute der Rectanglesinstanz zu modifizieren\n",
    "a_rectangle.length = 10\n",
    "a_rectangle.width = 2\n",
    "print(a_rectangle.length, a_rectangle.width)"
   ]
  },
  {
   "cell_type": "code",
   "execution_count": null,
   "metadata": {},
   "outputs": [],
   "source": [
    "class Rectangle:\n",
    "    length=None\n",
    "    width=None\n",
    "    # \"self\" ist einer Stichswort, der zum Classesbereich gehört\n",
    "    def __init__(self, length, width):\n",
    "        self.length = length\n",
    "        self.width = width\n",
    "        \n",
    "# eine Rectanglesinstanz kreieren\n",
    "a_rectangle = Rectangle(10, 2)\n",
    "print(a_rectangle.length, a_rectangle.width)"
   ]
  },
  {
   "cell_type": "code",
   "execution_count": null,
   "metadata": {},
   "outputs": [],
   "source": [
    "# kompaktere Classsbeschreibung\n",
    "class Rectangle:\n",
    "    def __init__(self, length, width):\n",
    "        self.length = length\n",
    "        self.width = width\n",
    "\n",
    "# eine Rectanglesinstanz kreieren\n",
    "a_rectangle = Rectangle(10, 2)\n",
    "print(a_rectangle.length, a_rectangle.width)"
   ]
  },
  {
   "cell_type": "code",
   "execution_count": null,
   "metadata": {},
   "outputs": [],
   "source": [
    "# Class Methoden = Funktionnen, die innerhalb der Class definieren sind\n",
    "class Rectangle:\n",
    "    def __init__(self, length, width):\n",
    "        self.length = length\n",
    "        self.width = width\n",
    "    # die Nutzung des Stichsworts \"self\", immer in der ersten Position, ist hier wichtig\n",
    "    # das heisst : diese Funktion gehört zu der Class \"Rectangle\" (und ist daher eine Methode)\n",
    "    def compute_area(self):\n",
    "        area = 0\n",
    "        if self.length is not None and self.width is not None:\n",
    "            area = self.length * self.width\n",
    "        return area\n",
    "\n",
    "# eine Rectanglesinstanz kreieren\n",
    "a_rectangle = Rectangle(10, 2)\n",
    "print(a_rectangle.compute_area())"
   ]
  },
  {
   "cell_type": "markdown",
   "metadata": {},
   "source": [
    "# Module\n",
    "Ein *module* ist eine Datei, die python Funktionen oder Classen enthält, welche wiederverwendbar sind.\n",
    "\n",
    "Eine *library* ist eine Sammlung von modules."
   ]
  },
  {
   "cell_type": "markdown",
   "metadata": {},
   "source": [
    "## Module importieren"
   ]
  },
  {
   "cell_type": "code",
   "execution_count": null,
   "metadata": {},
   "outputs": [],
   "source": [
    "import os\n",
    "print(os.path.abspath(os.path.curdir))"
   ]
  },
  {
   "cell_type": "code",
   "execution_count": null,
   "metadata": {},
   "outputs": [],
   "source": [
    "# nur ein Paar Funktionen/Variablen/Modulen importieren\n",
    "from os.path import abspath, curdir\n",
    "print(abspath(curdir))"
   ]
  },
  {
   "cell_type": "code",
   "execution_count": null,
   "metadata": {},
   "outputs": [],
   "source": [
    "# Aliases\n",
    "from os.path import abspath as banana, curdir as apfel_strudel\n",
    "print(banana(apfel_strudel))"
   ]
  },
  {
   "cell_type": "code",
   "execution_count": null,
   "metadata": {},
   "outputs": [],
   "source": [
    "# builtin Funktion help\n",
    "help(os.path)"
   ]
  },
  {
   "cell_type": "markdown",
   "metadata": {},
   "source": [
    "## Pip install non-builtin modules"
   ]
  }
 ],
 "metadata": {
  "kernelspec": {
   "display_name": "Python 3",
   "language": "python",
   "name": "python3"
  },
  "language_info": {
   "codemirror_mode": {
    "name": "ipython",
    "version": 3
   },
   "file_extension": ".py",
   "mimetype": "text/x-python",
   "name": "python",
   "nbconvert_exporter": "python",
   "pygments_lexer": "ipython3",
   "version": "3.6.7"
  }
 },
 "nbformat": 4,
 "nbformat_minor": 2
}
