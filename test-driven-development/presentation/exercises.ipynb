{
 "cells": [
  {
   "cell_type": "markdown",
   "metadata": {},
   "source": [
    "## Prerequisites\n",
    "make sure you have the latest version of master\n",
    "\n",
    "```git checkout master```\n",
    "\n",
    "```git pull```\n",
    "\n",
    "make sure you work on a separate git branch\n",
    "\n",
    "```git checkout -b <name of your branch>```"
   ]
  },
  {
   "cell_type": "markdown",
   "metadata": {},
   "source": [
    "### Aim : write a function which can add multiple numbers together"
   ]
  },
  {
   "cell_type": "markdown",
   "metadata": {},
   "source": [
    "Write the test for adding two numbers in `tests/test_calc.py`"
   ]
  },
  {
   "cell_type": "code",
   "execution_count": null,
   "metadata": {},
   "outputs": [],
   "source": [
    "def test_add_two_numbers():\n",
    "    c = Calc()\n",
    "\n",
    "    res = c.add(4, 5)\n",
    "\n",
    "    assert res == 9"
   ]
  },
  {
   "cell_type": "markdown",
   "metadata": {},
   "source": [
    "### The following code is to be copy-pasted into `code/calc.py` unless indicated otherwise"
   ]
  },
  {
   "cell_type": "markdown",
   "metadata": {},
   "source": [
    "### run the tests \n",
    "\n",
    "```pytest tests/test_calc.py``` \n",
    "\n",
    "or \n",
    "\n",
    "```py.test tests/test_calc.py```"
   ]
  },
  {
   "cell_type": "markdown",
   "metadata": {},
   "source": [
    "Solve the import error"
   ]
  },
  {
   "cell_type": "code",
   "execution_count": null,
   "metadata": {},
   "outputs": [],
   "source": [
    "class Calc:\n",
    "    pass"
   ]
  },
  {
   "cell_type": "markdown",
   "metadata": {},
   "source": [
    "Solve the failing test that the results is not 9"
   ]
  },
  {
   "cell_type": "code",
   "execution_count": null,
   "metadata": {},
   "outputs": [],
   "source": [
    "class Calc:\n",
    "    def add(self, a, b):\n",
    "        return 9"
   ]
  },
  {
   "cell_type": "markdown",
   "metadata": {},
   "source": [
    "Write the test for adding 3 numbers in `tests/test_calc.py`"
   ]
  },
  {
   "cell_type": "code",
   "execution_count": null,
   "metadata": {},
   "outputs": [],
   "source": [
    "def test_add_three_numbers():\n",
    "    c = Calc()\n",
    "\n",
    "    res = c.add(4, 5, 6)\n",
    "\n",
    "    assert res == 15"
   ]
  },
  {
   "cell_type": "markdown",
   "metadata": {},
   "source": [
    "Solve the failing test of too many arguments"
   ]
  },
  {
   "cell_type": "code",
   "execution_count": null,
   "metadata": {},
   "outputs": [],
   "source": [
    "class Calc:\n",
    "def add(self, a, b, c):\n",
    "    return 9"
   ]
  },
  {
   "cell_type": "markdown",
   "metadata": {},
   "source": [
    "Solve the failing test of too few arguments"
   ]
  },
  {
   "cell_type": "code",
   "execution_count": null,
   "metadata": {},
   "outputs": [],
   "source": [
    "class Calc:\n",
    "def add(self, a, b, c=0):\n",
    "    return 9"
   ]
  },
  {
   "cell_type": "markdown",
   "metadata": {},
   "source": [
    "Solve the failing test of assert 9"
   ]
  },
  {
   "cell_type": "code",
   "execution_count": null,
   "metadata": {},
   "outputs": [],
   "source": [
    "class Calc:\n",
    "def add(self, a, b, c=0):\n",
    "    return a + b + c"
   ]
  },
  {
   "cell_type": "markdown",
   "metadata": {},
   "source": [
    "Write the test to add multiple arguments in `tests/test_calc.py`"
   ]
  },
  {
   "cell_type": "code",
   "execution_count": null,
   "metadata": {},
   "outputs": [],
   "source": [
    "def test_add_many_numbers():\n",
    "    s = range(100)\n",
    "\n",
    "    assert Calc().add(*s) == 4950"
   ]
  },
  {
   "cell_type": "markdown",
   "metadata": {},
   "source": [
    "Allow multiple arguments"
   ]
  },
  {
   "cell_type": "code",
   "execution_count": null,
   "metadata": {},
   "outputs": [],
   "source": [
    "#this one allows checking each argument's type\n",
    "class Calc:\n",
    "    def add(self, *args):\n",
    "        answer = 0\n",
    "        for num in args:\n",
    "            answer = answer + num\n",
    "        return answer"
   ]
  },
  {
   "cell_type": "markdown",
   "metadata": {},
   "source": [
    "## Recapitulation\n",
    "\n",
    "1. Test first, code later.\n",
    "2. Add the bare minimum amount of code you need to pass the tests.\n",
    "3. You shouldn’t have more than one failing test at a time.\n",
    "4. Write code that passes the test. Then refactor it.\n",
    "5. A test should fail the first time you run it. If it doesn’t ask yourself why you are adding it.\n",
    "6. Never refactor without tests.\n",
    "\n",
    "*source* : https://github.com/pycabook/pycabook"
   ]
  },
  {
   "cell_type": "markdown",
   "metadata": {},
   "source": [
    "## Exercises:  \n",
    "\n",
    "### Exercise A\n",
    "add a method to the class Calc with the following requirements :\n",
    " - it shall perform the multiplication of more than 2 numbers\n",
    " - it shall throw a ValueError exception a multiplication by zero occur\n",
    "\n",
    "### Exercise B\n",
    "add a method to the class Calc with the following requirements :\n",
    " - it shall perform the division of two numbers\n",
    " - it shall return a float\n",
    " - it shall throw a ValueError exception when a division by 0 occur\n",
    "\n",
    "### Tip\n",
    "to test error throwing, use this syntax:\n",
    "\n",
    "```\n",
    " with pytest.raise(<Name of your Error>):\n",
    "     # write the code which should raise your error here\n",
    "```"
   ]
  }
 ],
 "metadata": {
  "kernelspec": {
   "display_name": "Python 3",
   "language": "python",
   "name": "python3"
  },
  "language_info": {
   "codemirror_mode": {
    "name": "ipython",
    "version": 3
   },
   "file_extension": ".py",
   "mimetype": "text/x-python",
   "name": "python",
   "nbconvert_exporter": "python",
   "pygments_lexer": "ipython3",
   "version": "3.6.8"
  }
 },
 "nbformat": 4,
 "nbformat_minor": 4
}
